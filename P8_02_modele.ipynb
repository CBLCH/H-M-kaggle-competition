{
  "cells": [
    {
      "cell_type": "markdown",
      "id": "8639092b",
      "metadata": {
        "id": "8639092b"
      },
      "source": [
        "# Espace Note"
      ]
    },
    {
      "cell_type": "code",
      "execution_count": null,
      "id": "774391b4",
      "metadata": {
        "id": "774391b4"
      },
      "outputs": [],
      "source": [
        "# regarder si des couleurs sont atypiques attirent des comportements atypiques chez certains clients\n",
        "\n",
        "# établir une répartition des types d'articles achetés dans la période de l'année où l'on doit faire\n",
        "# la prédiction. Il faut faire de même pour les couleurs de saison et vérifier si elles sont différentes\n",
        "# d'une année sur l'autre pour évaluer la mode. Il faut aussi voir la couleur à la mode pour l'année\n",
        "\n",
        "# établir le profil des clients en fonction des types d'objets achetés. Puis par série ou non ?\n",
        "\n",
        "# établir une liste des articles qui s'achètent en simple, double, triple"
      ]
    },
    {
      "cell_type": "code",
      "execution_count": null,
      "id": "0ee7d65d",
      "metadata": {
        "id": "0ee7d65d"
      },
      "outputs": [],
      "source": [
        "# Hypothèse 1 On va retirer les clients qui commandent plus que 99% de clients"
      ]
    },
    {
      "cell_type": "code",
      "source": [
        "from google.colab import drive\n",
        "drive.mount('/content/drive')"
      ],
      "metadata": {
        "colab": {
          "base_uri": "https://localhost:8080/"
        },
        "id": "hTBSWwfhPP4r",
        "outputId": "bd9282bf-c815-41a7-918e-8583895f5469"
      },
      "id": "hTBSWwfhPP4r",
      "execution_count": 48,
      "outputs": [
        {
          "output_type": "stream",
          "name": "stdout",
          "text": [
            "Drive already mounted at /content/drive; to attempt to forcibly remount, call drive.mount(\"/content/drive\", force_remount=True).\n"
          ]
        }
      ]
    },
    {
      "cell_type": "markdown",
      "id": "d1ee2d8a",
      "metadata": {
        "id": "d1ee2d8a"
      },
      "source": [
        "# Espace travail"
      ]
    },
    {
      "cell_type": "code",
      "execution_count": null,
      "id": "2eac16de",
      "metadata": {
        "colab": {
          "base_uri": "https://localhost:8080/"
        },
        "id": "2eac16de",
        "outputId": "20171e27-fc6b-49e4-f6bf-9a43898adbae"
      },
      "outputs": [
        {
          "output_type": "stream",
          "name": "stdout",
          "text": [
            "[nltk_data] Downloading package punkt to /root/nltk_data...\n",
            "[nltk_data]   Unzipping tokenizers/punkt.zip.\n",
            "[nltk_data] Downloading package stopwords to /root/nltk_data...\n",
            "[nltk_data]   Unzipping corpora/stopwords.zip.\n",
            "[nltk_data] Downloading package wordnet to /root/nltk_data...\n",
            "[nltk_data]   Unzipping corpora/wordnet.zip.\n"
          ]
        },
        {
          "output_type": "execute_result",
          "data": {
            "text/plain": [
              "True"
            ]
          },
          "metadata": {},
          "execution_count": 2
        }
      ],
      "source": [
        "import numpy as np\n",
        "import pandas as pd\n",
        "import matplotlib.pyplot as plt\n",
        "import seaborn as sns\n",
        "from time import time \n",
        "import sys\n",
        "import csv\n",
        "import pickle\n",
        "import os\n",
        "from sklearn.model_selection import train_test_split\n",
        "from sklearn.preprocessing import OneHotEncoder\n",
        "import random\n",
        "import datetime\n",
        "import nltk\n",
        "nltk.download('punkt')\n",
        "nltk.download('stopwords')\n",
        "nltk.download('wordnet')"
      ]
    },
    {
      "cell_type": "code",
      "source": [
        "os.chdir('drive/MyDrive/Formation/Projet 8')"
      ],
      "metadata": {
        "id": "UNe0lvX3PXXZ"
      },
      "id": "UNe0lvX3PXXZ",
      "execution_count": null,
      "outputs": []
    },
    {
      "cell_type": "code",
      "source": [
        "pickle_in = open('sample_cust_df.pickle','rb')\n",
        "sample_cust_df = pickle.load(pickle_in)\n",
        "pickle_in.close()\n",
        "pickle_in = open('df_info.pickle','rb')\n",
        "df_info = pickle.load(pickle_in)\n",
        "pickle_in.close()\n",
        "pickle_in = open('df_sample_cust.pickle','rb')\n",
        "df_sample_cust = pickle.load(pickle_in)\n",
        "pickle_in.close()\n",
        "# pickle_in = open('df_sample.pickle','rb')\n",
        "# df_sample = pickle.load(pickle_in)\n",
        "# pickle_in.close()"
      ],
      "metadata": {
        "id": "Qh22Adqbee7w"
      },
      "id": "Qh22Adqbee7w",
      "execution_count": null,
      "outputs": []
    },
    {
      "cell_type": "code",
      "execution_count": 354,
      "id": "7a22fead",
      "metadata": {
        "id": "7a22fead"
      },
      "outputs": [],
      "source": [
        "meta_art = pd.read_csv('articles.csv',dtype={'article_id': str})\n",
        "meta_cust = pd.read_csv('customers.csv')\n",
        "sub_format = pd.read_csv('sample_submission.csv')\n",
        "df = pd.read_csv('transactions_train.csv',dtype={'article_id': str})"
      ]
    },
    {
      "cell_type": "code",
      "source": [
        "df['sales_channel_id'] = df['sales_channel_id'].astype('int8')"
      ],
      "metadata": {
        "id": "8QO1EAKH4_xe"
      },
      "id": "8QO1EAKH4_xe",
      "execution_count": null,
      "outputs": []
    },
    {
      "cell_type": "code",
      "source": [
        "meta_art.drop([\n",
        "               'graphical_appearance_no','product_type_no','colour_group_code',\\\n",
        "               'index_code','index_group_no','product_code',\\\n",
        "               'perceived_colour_value_id','perceived_colour_master_id',\\\n",
        "               'department_no','section_no','garment_group_no'],\\\n",
        "              axis=1,inplace=True)"
      ],
      "metadata": {
        "id": "lw593ZaW5dPa"
      },
      "id": "lw593ZaW5dPa",
      "execution_count": null,
      "outputs": []
    },
    {
      "cell_type": "code",
      "execution_count": null,
      "id": "f4de366b",
      "metadata": {
        "colab": {
          "base_uri": "https://localhost:8080/"
        },
        "id": "f4de366b",
        "outputId": "cfb8c8ce-d662-437b-cf05-361cd816115a"
      },
      "outputs": [
        {
          "output_type": "stream",
          "name": "stdout",
          "text": [
            "45\n"
          ]
        }
      ],
      "source": [
        "# Calculating the threshold of number of orders max to represent 99% of the pop\n",
        "# The last remaining 1% orders much more than the average customer and will be \n",
        "# removed from data to quicken the runtimes\n",
        "nb_orders = df.groupby('customer_id')['t_dat'].nunique()\n",
        "seuil = 0.0\n",
        "nb_purchase = 0\n",
        "while seuil < 0.99:\n",
        "    nb_purchase += 1\n",
        "    seuil=len(nb_orders[nb_orders<(nb_purchase+1)])/len(nb_orders)\n",
        "print(nb_purchase)\n",
        "cust_too_many_commands =nb_orders[nb_orders>nb_purchase].index\n",
        "df = df[~df['customer_id'].isin(cust_too_many_commands)]"
      ]
    },
    {
      "cell_type": "markdown",
      "id": "9ac19d08",
      "metadata": {
        "id": "9ac19d08"
      },
      "source": [
        "# Definition of the first time client: How can we do better than randomly chosing an article"
      ]
    },
    {
      "cell_type": "code",
      "source": [
        "# we make a list of the 12 most populars items as we can predict up to 12 items\n",
        "# for a customer with no penalty\n",
        "most_bought_2020 = df[df['t_dat'] > '2020-08-22'].groupby('article_id')['customer_id'].nunique().sort_values(ascending=False).head(12)\n"
      ],
      "metadata": {
        "id": "k2UbIKBwO5rR"
      },
      "id": "k2UbIKBwO5rR",
      "execution_count": 236,
      "outputs": []
    },
    {
      "cell_type": "markdown",
      "id": "41564d0a",
      "metadata": {
        "id": "41564d0a"
      },
      "source": [
        "# Pattern related to the time of the year"
      ]
    },
    {
      "cell_type": "code",
      "source": [
        "df_info = df.merge(meta_art,how='left',on='article_id')"
      ],
      "metadata": {
        "id": "TT2VGd08R1dJ"
      },
      "id": "TT2VGd08R1dJ",
      "execution_count": null,
      "outputs": []
    },
    {
      "cell_type": "code",
      "source": [
        "# we are making our tests on 10000 customers\n",
        "# we create the dataframe that will hold the information of customers\n",
        "# we create the sub DataFrame of these customers df_sample\n",
        "\n",
        "random.seed(123)\n",
        "sample_cust = random.sample(set(df_info['customer_id']),k = 10000)\n",
        "sample_cust_df = pd.DataFrame(index=sample_cust)\n",
        "df_sample = df_info[df_info['customer_id'].isin(sample_cust)]\n",
        "sample_cust_df['customer_id']=sample_cust_df.index"
      ],
      "metadata": {
        "id": "UF_vR-x0SdlI"
      },
      "id": "UF_vR-x0SdlI",
      "execution_count": null,
      "outputs": []
    },
    {
      "cell_type": "code",
      "source": [
        "# list of colour previously bought\n",
        "# nb of purchases over the 2 years\n",
        "# type of clothing purchases\n",
        "\n",
        "sample_cust_df['colour_bought'] = df_sample.groupby('customer_id')\\\n",
        "['perceived_colour_master_name'].unique()\n",
        "sample_cust_df['nb_purchase'] = df_sample.groupby('customer_id')\\\n",
        "['article_id'].count()\n",
        "sample_cust_df['type_of_clothing'] = df_sample.groupby('customer_id')\\\n",
        "['product_group_name'].unique()\n",
        "sample_cust_df['appearance'] = df_sample.groupby('customer_id')\\\n",
        "['graphical_appearance_name'].unique()"
      ],
      "metadata": {
        "id": "4u2f6Qd9WQtK"
      },
      "id": "4u2f6Qd9WQtK",
      "execution_count": null,
      "outputs": []
    },
    {
      "cell_type": "code",
      "source": [
        "# the goal here is to make a conformity score, to see if the customer buys the\n",
        "# most popular 'something' (colour,type of clothing)\n",
        "def conformity_score(category):\n",
        "  sample_cust_df['conformity_'+category] = 0\n",
        "  col_fr = df_info[category].value_counts(normalize=True)\n",
        "  t0=time()\n",
        "  for count,cust in enumerate(sample_cust_df.index):  \n",
        "    conf = 0\n",
        "    df_temp = df_sample[df_sample['customer_id']==cust]\n",
        "    for colour in col_fr.index:\n",
        "      conf = conf + float(((df_temp[category]==colour).sum()))*float(col_fr[col_fr.index==colour])    \n",
        "    conf = conf/float(sample_cust_df[sample_cust_df.index==cust]['nb_purchase'])  \n",
        "    sample_cust_df.loc[cust,'conformity_'+category]=conf \n",
        "\n",
        "#took 6 minutes like must be a way to improve the speed"
      ],
      "metadata": {
        "id": "2Kbh0uPzy-WN"
      },
      "id": "2Kbh0uPzy-WN",
      "execution_count": null,
      "outputs": []
    },
    {
      "cell_type": "code",
      "source": [
        "conformity_score('perceived_colour_master_name')\n",
        "conformity_score('product_group_name')\n",
        "conformity_score('graphical_appearance_name')\n",
        "sample_cust_df['conformity_perceived_colour_master_name'] = sample_cust_df['conformity_perceived_colour_master_name']/sample_cust_df['conformity_perceived_colour_master_name'].mean()\n",
        "sample_cust_df['conformity_product_group_name'] = sample_cust_df['conformity_product_group_name']/sample_cust_df['conformity_product_group_name'].mean()\n",
        "sample_cust_df['conformity_graphical_appearance_name'] = sample_cust_df['conformity_graphical_appearance_name']/sample_cust_df['conformity_graphical_appearance_name'].mean()\n",
        "# a value higher than 1, means that the customer is buying the most standard articles and a value below means the customer is buying least standard articles"
      ],
      "metadata": {
        "id": "ZYBEapYka1Hi"
      },
      "id": "ZYBEapYka1Hi",
      "execution_count": null,
      "outputs": []
    },
    {
      "cell_type": "code",
      "source": [
        "sample_cust_df['average_buy'] = df_sample.groupby('customer_id')['price'].mean()\n",
        "sample_cust_df['std_buy'] = df_sample.groupby('customer_id')['price'].std()\n",
        "sample_cust_df['max_budget'] = df_sample.groupby('customer_id')['price'].max()"
      ],
      "metadata": {
        "id": "35We_eQczyIH"
      },
      "id": "35We_eQczyIH",
      "execution_count": null,
      "outputs": []
    },
    {
      "cell_type": "code",
      "source": [
        "df_temp_Y = pd.DataFrame(df_sample[df_sample['t_dat'] >'2020-09-14'])\n",
        "df_3_weeks = df_info[(df_info['t_dat']>'2020-09-01')&(df_info['t_dat']<='2020-09-14')]"
      ],
      "metadata": {
        "id": "-Avcmw4dT9ka"
      },
      "id": "-Avcmw4dT9ka",
      "execution_count": null,
      "outputs": []
    },
    {
      "cell_type": "code",
      "source": [
        "def article_selection(cust): \n",
        "    actually_bought = df_temp_Y[df_temp_Y['customer_id']==cust]['article_id']    \n",
        "    temp_list = wide_list_popular_item_df\n",
        "    # we remove articles that have an estimated price higher than max budget\n",
        "    temp_list = temp_list[temp_list['price_estimated']<sample_cust_df.loc[cust,'max_budget']]\n",
        "    # we remove articles with perceived colour never bought by the customer\n",
        "    temp_list = set(temp_list.index).intersection(set(meta_art_pop[meta_art_pop['perceived_colour_master_name'].isin(set(sample_cust_df.loc[cust,'colour_bought']))]['article_id']))\n",
        "    # we remove articles out of the product group of the customer\n",
        "    temp_list = temp_list.intersection(set(meta_art_pop[meta_art_pop['product_group_name'].isin(set(sample_cust_df.loc[cust,'type_of_clothing']))]['article_id']))\n",
        "    temp_list = temp_list.intersection(set(meta_art_pop[meta_art_pop['graphical_appearance_name'].isin(set(sample_cust_df.loc[cust,'appearance']))]['article_id']))   \n",
        "    temp_list1 = temp_list.intersection(set(actually_bought))\n",
        "    return(len(temp_list1),len(set(actually_bought)),len(temp_list))"
      ],
      "metadata": {
        "id": "7rsXEQlUT7GC"
      },
      "id": "7rsXEQlUT7GC",
      "execution_count": null,
      "outputs": []
    },
    {
      "cell_type": "code",
      "source": [
        "# we define the items needed to reach the threshold th of the total number\n",
        "# of sales. These are the most popular items.\n",
        "th_list = [0.05,0.1,0.2,0.3,0.4,0.5,0.6,0.7,0.8,0.9]\n",
        "count1 = []\n",
        "count2 = []\n",
        "count3 = []\n",
        "for th in th_list:\n",
        "  nb = (df_3_weeks['article_id'].value_counts(normalize=True).cumsum()<th).sum() \n",
        "  wide_list_popular_items = df_3_weeks['article_id'].value_counts(\n",
        "      normalize=True).head(nb).index.tolist()\n",
        "  wide_list_popular_item_df = pd.DataFrame(index=wide_list_popular_items)\n",
        "  # we calculate the estimated price of each of these items\n",
        "  # (sales can change price)\n",
        "  wide_list_popular_item_df['price_estimated']=0\n",
        "  for item in wide_list_popular_item_df.index:\n",
        "    wide_list_popular_item_df.loc[item,'price_estimated'] = \\\n",
        "    df_3_weeks[df_3_weeks['article_id']==item]['price'].mean()\n",
        "  # we create a subdataframe restricted to the popular item defined by th\n",
        "  meta_art_pop = meta_art[meta_art['article_id'].isin(wide_list_popular_items)]\n",
        "  # we calculate c1 the number of articles bought and in our restricted\n",
        "  # list defined in article_selection for all customers we divide c1 by the \n",
        "  # number of purchases to define the maximal precision if we chose the\n",
        "  # articles in our restricted list we calculate c2 the number of articles\n",
        "  # in our restricted list on average we calculate c3 which is c1/c2 the\n",
        "  # required 'precision' to find the good articles in our list  \n",
        "  sample_cust_df['possible_good_guess'] = sample_cust_df['customer_id'].apply(\n",
        "      article_selection)  \n",
        "  c1 = 0\n",
        "  c2 = 0\n",
        "  c3 = []\n",
        "  for i in sample_cust_df['possible_good_guess']:    \n",
        "    c1 += i[0]\n",
        "    c2 += i[2]     \n",
        "    c3.append(i[2])     \n",
        "  c2 = c2/len(sample_cust_df['customer_id'])  \n",
        "  count1.append(c1/len(df_temp_Y['article_id']))\n",
        "  count2.append(c2)\n",
        "  count3.append(c3)  \n",
        "  # count1 is max precision that we can expect if the algorithm\n",
        "  # has 100% precision\n",
        "  # count2 is the number of articles per customer on average\n",
        "  # count3 is the number of articles in the restricted list"
      ],
      "metadata": {
        "id": "tPkDQ82ASV3x"
      },
      "id": "tPkDQ82ASV3x",
      "execution_count": null,
      "outputs": []
    },
    {
      "cell_type": "code",
      "source": [
        "sns.relplot(x=th_list,y=count1)\n",
        "sns.relplot(x=th_list,y=count2)"
      ],
      "metadata": {
        "colab": {
          "base_uri": "https://localhost:8080/",
          "height": 738
        },
        "id": "PNqCvgOnXcxc",
        "outputId": "dbdf6b70-a554-4eb0-e6af-18e6e8640891"
      },
      "id": "PNqCvgOnXcxc",
      "execution_count": null,
      "outputs": [
        {
          "output_type": "execute_result",
          "data": {
            "text/plain": [
              "<seaborn.axisgrid.FacetGrid at 0x7f6ed62f6290>"
            ]
          },
          "metadata": {},
          "execution_count": 18
        },
        {
          "output_type": "display_data",
          "data": {
            "image/png": "[encoded data removed]",
            "text/plain": [
              "<Figure size 360x360 with 1 Axes>"
            ]
          },
          "metadata": {
            "needs_background": "light"
          }
        },
        {
          "output_type": "display_data",
          "data": {
            "image/png": "[encoded data removed]",
            "text/plain": [
              "<Figure size 360x360 with 1 Axes>"
            ]
          },
          "metadata": {
            "needs_background": "light"
          }
        }
      ]
    },
    {
      "cell_type": "code",
      "source": [
        "sns.set_style(\"white\")\n",
        "fig, axes = plt.subplots(2, 5, figsize=(26, 13))\n",
        "for count,value in enumerate(count3):\n",
        "  plt.subplot(2,5,count+1)\n",
        "  sns.histplot(value,bins=50)\n",
        "# We can see that the method to reduce the list of candidate \n",
        "# mostly put occasional customers to 0 no matter the initial amount."
      ],
      "metadata": {
        "colab": {
          "base_uri": "https://localhost:8080/",
          "height": 755
        },
        "id": "O29xsGN6H_hr",
        "outputId": "c92bbde2-3c27-4a08-c406-5e3b1f94e07b"
      },
      "id": "O29xsGN6H_hr",
      "execution_count": null,
      "outputs": [
        {
          "output_type": "display_data",
          "data": {
            "image/png": "[encoded data removed]",
            "text/plain": [
              "<Figure size 1872x936 with 10 Axes>"
            ]
          },
          "metadata": {}
        }
      ]
    },
    {
      "cell_type": "code",
      "source": [
        "def art_sel_budget(cust): \n",
        "    actually_bought = df_temp_Y[df_temp_Y['customer_id']==cust]['article_id']    \n",
        "    temp_list = wide_list_popular_item_df\n",
        "    # we remove articles that have an estimated price higher than max budget\n",
        "    temp_list = temp_list[temp_list['price_estimated']<sample_cust_df.loc[cust,'max_budget']] \n",
        "    temp_list1 = set(temp_list.index).intersection(set(actually_bought))\n",
        "    return(len(temp_list1),len(set(actually_bought)),len(temp_list))   "
      ],
      "metadata": {
        "id": "G1sD0bDjYGRt"
      },
      "id": "G1sD0bDjYGRt",
      "execution_count": null,
      "outputs": []
    },
    {
      "cell_type": "code",
      "source": [
        "def art_sel_colour(cust): \n",
        "    actually_bought = df_temp_Y[df_temp_Y['customer_id']==cust]['article_id']    \n",
        "    temp_list = wide_list_popular_item_df\n",
        "    # we remove articles with perceived colour never bought by the customer\n",
        "    temp_list = set(temp_list.index).intersection(set(meta_art_pop[meta_art_pop['perceived_colour_master_name'].isin(set(sample_cust_df.loc[cust,'colour_bought']))]['article_id'])) \n",
        "    temp_list1 = temp_list.intersection(set(actually_bought)) \n",
        "    return(len(temp_list1),len(set(actually_bought)),len(temp_list))"
      ],
      "metadata": {
        "id": "yvqfzfRqtktI"
      },
      "id": "yvqfzfRqtktI",
      "execution_count": null,
      "outputs": []
    },
    {
      "cell_type": "code",
      "source": [
        "def art_sel_typecloth(cust): \n",
        "    actually_bought = df_temp_Y[df_temp_Y['customer_id']==cust]['article_id']    \n",
        "    temp_list = wide_list_popular_item_df  \n",
        "    # we remove articles out of the product group of the customer\n",
        "    temp_list = set(temp_list.index).intersection(set(meta_art_pop[meta_art_pop['product_group_name'].isin(set(sample_cust_df.loc[cust,'type_of_clothing']))]['article_id']))      \n",
        "    temp_list1 = temp_list.intersection(set(actually_bought))    \n",
        "    return(len(temp_list1),len(set(actually_bought)),len(temp_list))"
      ],
      "metadata": {
        "id": "9u1o2RmNtoBY"
      },
      "id": "9u1o2RmNtoBY",
      "execution_count": null,
      "outputs": []
    },
    {
      "cell_type": "code",
      "source": [
        "def art_sel_appearance(cust): \n",
        "    actually_bought = df_temp_Y[df_temp_Y['customer_id']==cust]['article_id']    \n",
        "    temp_list = wide_list_popular_item_df  \n",
        "    temp_list = set(temp_list.index).intersection(set(meta_art_pop[meta_art_pop['graphical_appearance_name'].isin(set(sample_cust_df.loc[cust,'appearance']))]['article_id']))   \n",
        "    temp_list1 = temp_list.intersection(set(actually_bought))   \n",
        "    return(len(temp_list1),len(set(actually_bought)),len(temp_list))  "
      ],
      "metadata": {
        "id": "iq2jMKNUtpfJ"
      },
      "id": "iq2jMKNUtpfJ",
      "execution_count": null,
      "outputs": []
    },
    {
      "cell_type": "code",
      "source": [
        "# we define the items needed to reach the threshold th of the total number\n",
        "# of sales. These are the most popular items.\n",
        "th_list = [0.05,0.1,0.2,0.3,0.4,0.5,0.6,0.7,0.8,0.9]\n",
        "count1 = []\n",
        "count2 = []\n",
        "count3 = []\n",
        "for th in th_list:\n",
        "  nb = (df_3_weeks['article_id'].value_counts(normalize=True).cumsum()<th).sum() \n",
        "  wide_list_popular_items = df_3_weeks['article_id'].value_counts(\n",
        "      normalize=True).head(nb).index.tolist()\n",
        "  wide_list_popular_item_df = pd.DataFrame(index=wide_list_popular_items)\n",
        "  # we calculate the estimated price of each of these items\n",
        "  # (sales can change price)\n",
        "  wide_list_popular_item_df['price_estimated'] = 0\n",
        "  for item in wide_list_popular_item_df.index:\n",
        "    wide_list_popular_item_df.loc[item,'price_estimated'] = \\\n",
        "    df_3_weeks[df_3_weeks['article_id']==item]['price'].mean()\n",
        "  # we create a subdataframe restricted to the popular item defined by th\n",
        "  meta_art_pop = meta_art[meta_art['article_id'].isin(wide_list_popular_items)]\n",
        "  # we calculate c1 the number of articles bought and in our restricted\n",
        "  # list defined in article_selection for all customers. We divide c1 by the \n",
        "  # number of purchases to define the maximal precision if we chose the\n",
        "  # articles in our restricted list. we calculate c2 the number of articles\n",
        "  # in our restricted list on average we calculate c3, the distribution of\n",
        "  # of number of restricted articles per customer.\n",
        "  sample_cust_df['possible_good_guess'] = sample_cust_df['customer_id'].apply(\n",
        "      art_sel_budget)  \n",
        "  c1 = 0\n",
        "  c2 = 0\n",
        "  c3 = []\n",
        "  for i in sample_cust_df['possible_good_guess']:    \n",
        "    c1 += i[0]\n",
        "    c2 += i[2]     \n",
        "    c3.append(i[2])     \n",
        "  c2 = c2/len(sample_cust_df['customer_id'])  \n",
        "  count1.append(c1/len(df_temp_Y['article_id']))\n",
        "  count2.append(c2)\n",
        "  count3.append(c3)  \n",
        "  # count1 is max precision that we can expect if the algorithm\n",
        "  # has 100% precision\n",
        "  # count2 is the number of articles per customer on average\n",
        "  # count3 is the number of articles in the restricted list\n",
        "sns.relplot(x=th_list,y=count1)\n",
        "sns.relplot(x=th_list,y=count2)"
      ],
      "metadata": {
        "colab": {
          "base_uri": "https://localhost:8080/",
          "height": 738
        },
        "id": "b7xxG2QYUdrD",
        "outputId": "4682b203-bab3-4d2c-c815-842542f6f9b9"
      },
      "id": "b7xxG2QYUdrD",
      "execution_count": null,
      "outputs": [
        {
          "output_type": "execute_result",
          "data": {
            "text/plain": [
              "<seaborn.axisgrid.FacetGrid at 0x7f6eb295fc50>"
            ]
          },
          "metadata": {},
          "execution_count": 24
        },
        {
          "output_type": "display_data",
          "data": {
            "image/png": "[encoded data removed]",
            "text/plain": [
              "<Figure size 360x360 with 1 Axes>"
            ]
          },
          "metadata": {}
        },
        {
          "output_type": "display_data",
          "data": {
            "image/png": "[encoded data removed]",
            "text/plain": [
              "<Figure size 360x360 with 1 Axes>"
            ]
          },
          "metadata": {}
        }
      ]
    },
    {
      "cell_type": "code",
      "source": [
        "sns.set_style(\"white\")\n",
        "fig, axes = plt.subplots(2, 5, figsize=(26, 13))\n",
        "for count,value in enumerate(count3):\n",
        "  plt.subplot(2,5,count+1)\n",
        "  sns.histplot(value,bins=50)\n",
        "# We can see that the method to reduce the list of candidate \n",
        "# mostly put occasional customers to 0 no matter the initial amount."
      ],
      "metadata": {
        "colab": {
          "base_uri": "https://localhost:8080/",
          "height": 755
        },
        "id": "2T0lcBHVUzxJ",
        "outputId": "e748a15b-a041-4b71-eb4b-e5c098b9ee33"
      },
      "id": "2T0lcBHVUzxJ",
      "execution_count": null,
      "outputs": [
        {
          "output_type": "display_data",
          "data": {
            "image/png": "[encoded data removed]",
            "text/plain": [
              "<Figure size 1872x936 with 10 Axes>"
            ]
          },
          "metadata": {}
        }
      ]
    },
    {
      "cell_type": "code",
      "source": [
        "count1"
      ],
      "metadata": {
        "colab": {
          "base_uri": "https://localhost:8080/"
        },
        "id": "Mcx1t_TYjLj5",
        "outputId": "59ae85d1-326b-4696-b19c-0fb67805246c"
      },
      "id": "Mcx1t_TYjLj5",
      "execution_count": null,
      "outputs": [
        {
          "output_type": "execute_result",
          "data": {
            "text/plain": [
              "[0.0416221985058698,\n",
              " 0.07630736392742796,\n",
              " 0.14461045891141944,\n",
              " 0.21077908217716115,\n",
              " 0.2833511205976521,\n",
              " 0.3697972251867663,\n",
              " 0.4615795090715048,\n",
              " 0.5570971184631803,\n",
              " 0.6334044823906083,\n",
              " 0.7065101387406617]"
            ]
          },
          "metadata": {},
          "execution_count": 26
        }
      ]
    },
    {
      "cell_type": "code",
      "source": [
        "count2"
      ],
      "metadata": {
        "colab": {
          "base_uri": "https://localhost:8080/"
        },
        "id": "WwibXxyKjLo1",
        "outputId": "16e359f0-783c-4466-b7d7-aecacf0214f2"
      },
      "id": "WwibXxyKjLo1",
      "execution_count": null,
      "outputs": [
        {
          "output_type": "execute_result",
          "data": {
            "text/plain": [
              "[22.1462,\n",
              " 55.8667,\n",
              " 150.9396,\n",
              " 296.8067,\n",
              " 501.0315,\n",
              " 803.7557,\n",
              " 1241.8994,\n",
              " 1972.0479,\n",
              " 3181.4085,\n",
              " 5683.4514]"
            ]
          },
          "metadata": {},
          "execution_count": 27
        }
      ]
    },
    {
      "cell_type": "code",
      "source": [
        "# we define the items needed to reach the threshold th of the total number\n",
        "# of sales. These are the most popular items.\n",
        "th_list = [0.05,0.1,0.2,0.3,0.4,0.5,0.6,0.7,0.8,0.9]\n",
        "count1 = []\n",
        "count2 = []\n",
        "count3 = []\n",
        "for th in th_list:\n",
        "  nb = (df_3_weeks['article_id'].value_counts(normalize=True).cumsum()<th).sum() \n",
        "  wide_list_popular_items = df_3_weeks['article_id'].value_counts(\n",
        "      normalize=True).head(nb).index.tolist()\n",
        "  wide_list_popular_item_df = pd.DataFrame(index=wide_list_popular_items)\n",
        "  # we calculate the estimated price of each of these items\n",
        "  # (sales can change price)\n",
        "  # we create a subdataframe restricted to the popular item defined by th\n",
        "  meta_art_pop = meta_art[meta_art['article_id'].isin(wide_list_popular_items)]\n",
        "  # we calculate c1 the number of articles bought and in our restricted\n",
        "  # list defined in article_selection for all customers we divide c1 by the \n",
        "  # number of purchases to define the maximal precision if we chose the\n",
        "  # articles in our restricted list we calculate c2 the number of articles\n",
        "  # in our restricted list on average we calculate c3 which is c1/c2 the\n",
        "  # required 'precision' to find the good articles in our list  \n",
        "  sample_cust_df['possible_good_guess'] = sample_cust_df['customer_id'].apply(\n",
        "      art_sel_colour)  \n",
        "  c1 = 0\n",
        "  c2 = 0\n",
        "  c3 = []\n",
        "  for i in sample_cust_df['possible_good_guess']:    \n",
        "    c1 += i[0]\n",
        "    c2 += i[2]     \n",
        "    c3.append(i[2])     \n",
        "  c2 = c2/len(sample_cust_df['customer_id'])  \n",
        "  count1.append(c1/len(df_temp_Y['article_id']))\n",
        "  count2.append(c2)\n",
        "  count3.append(c3)  \n",
        "  # count1 is max precision that we can expect if the algorithm\n",
        "  # has 100% precision\n",
        "  # count2 is the number of articles per customer on average\n",
        "  # count3 is the number of articles in the restricted list\n",
        "sns.relplot(x=th_list,y=count1)\n",
        "sns.relplot(x=th_list,y=count2)"
      ],
      "metadata": {
        "colab": {
          "base_uri": "https://localhost:8080/",
          "height": 738
        },
        "id": "Nr0qpZGWY69z",
        "outputId": "fe2be44c-978b-4426-b1f4-76ba51552a05"
      },
      "id": "Nr0qpZGWY69z",
      "execution_count": null,
      "outputs": [
        {
          "output_type": "execute_result",
          "data": {
            "text/plain": [
              "<seaborn.axisgrid.FacetGrid at 0x7f6eb2883650>"
            ]
          },
          "metadata": {},
          "execution_count": 28
        },
        {
          "output_type": "display_data",
          "data": {
            "image/png": "[encoded data removed]",
            "text/plain": [
              "<Figure size 360x360 with 1 Axes>"
            ]
          },
          "metadata": {}
        },
        {
          "output_type": "display_data",
          "data": {
            "image/png": "[encoded data removed]",
            "text/plain": [
              "<Figure size 360x360 with 1 Axes>"
            ]
          },
          "metadata": {}
        }
      ]
    },
    {
      "cell_type": "code",
      "source": [
        "sns.set_style(\"white\")\n",
        "fig, axes = plt.subplots(2, 5, figsize=(26, 13))\n",
        "for count,value in enumerate(count3):\n",
        "  plt.subplot(2,5,count+1)\n",
        "  sns.histplot(value,bins=50)\n",
        "# We can see that the method to reduce the list of candidate \n",
        "# mostly put occasional customers to 0 no matter the initial amount."
      ],
      "metadata": {
        "colab": {
          "base_uri": "https://localhost:8080/",
          "height": 757
        },
        "id": "xxQmTl7IY-kM",
        "outputId": "9a110a19-b90e-40db-a95f-844600895dc2"
      },
      "id": "xxQmTl7IY-kM",
      "execution_count": null,
      "outputs": [
        {
          "output_type": "display_data",
          "data": {
            "image/png": "[encoded data removed]",
            "text/plain": [
              "<Figure size 1872x936 with 10 Axes>"
            ]
          },
          "metadata": {}
        }
      ]
    },
    {
      "cell_type": "code",
      "source": [
        "count1"
      ],
      "metadata": {
        "colab": {
          "base_uri": "https://localhost:8080/"
        },
        "id": "YQgZNDx9ZOOB",
        "outputId": "a51afeaf-8295-476b-9652-d32fb5c49568"
      },
      "id": "YQgZNDx9ZOOB",
      "execution_count": null,
      "outputs": [
        {
          "output_type": "execute_result",
          "data": {
            "text/plain": [
              "[0.0416221985058698,\n",
              " 0.0768409818569904,\n",
              " 0.14834578441835647,\n",
              " 0.21664887940234792,\n",
              " 0.2892209178228389,\n",
              " 0.37726787620064034,\n",
              " 0.47225186766275346,\n",
              " 0.5688367129135539,\n",
              " 0.6472785485592316,\n",
              " 0.7219850586979722]"
            ]
          },
          "metadata": {},
          "execution_count": 30
        }
      ]
    },
    {
      "cell_type": "code",
      "source": [
        "count2"
      ],
      "metadata": {
        "colab": {
          "base_uri": "https://localhost:8080/"
        },
        "id": "kjJ_LE3TZPK7",
        "outputId": "5e8979c3-4901-4871-bbea-4fce574de5f8"
      },
      "id": "kjJ_LE3TZPK7",
      "execution_count": null,
      "outputs": [
        {
          "output_type": "execute_result",
          "data": {
            "text/plain": [
              "[18.429,\n",
              " 44.7124,\n",
              " 124.3739,\n",
              " 237.4232,\n",
              " 393.8676,\n",
              " 625.658,\n",
              " 966.4869,\n",
              " 1474.9361,\n",
              " 2306.5798,\n",
              " 3980.026]"
            ]
          },
          "metadata": {},
          "execution_count": 31
        }
      ]
    },
    {
      "cell_type": "code",
      "source": [
        "# we define the items needed to reach the threshold th of the total number\n",
        "# of sales. These are the most popular items.\n",
        "th_list = [0.05,0.1,0.2,0.3,0.4,0.5,0.6,0.7,0.8,0.9]\n",
        "count1 = []\n",
        "count2 = []\n",
        "count3 = []\n",
        "for th in th_list:\n",
        "  nb = (df_3_weeks['article_id'].value_counts(normalize=True).cumsum()<th).sum() \n",
        "  wide_list_popular_items = df_3_weeks['article_id'].value_counts(\n",
        "      normalize=True).head(nb).index.tolist()\n",
        "  wide_list_popular_item_df = pd.DataFrame(index=wide_list_popular_items)\n",
        "  # we calculate the estimated price of each of these items\n",
        "  # (sales can change price)\n",
        "  # we create a subdataframe restricted to the popular item defined by th\n",
        "  meta_art_pop = meta_art[meta_art['article_id'].isin(wide_list_popular_items)]\n",
        "  # we calculate c1 the number of articles bought and in our restricted\n",
        "  # list defined in article_selection for all customers we divide c1 by the \n",
        "  # number of purchases to define the maximal precision if we chose the\n",
        "  # articles in our restricted list we calculate c2 the number of articles\n",
        "  # in our restricted list on average we calculate c3 which is c1/c2 the\n",
        "  # required 'precision' to find the good articles in our list  \n",
        "  sample_cust_df['possible_good_guess'] = sample_cust_df['customer_id'].apply(\n",
        "      art_sel_typecloth)  \n",
        "  c1 = 0\n",
        "  c2 = 0\n",
        "  c3 = []\n",
        "  for i in sample_cust_df['possible_good_guess']:    \n",
        "    c1 += i[0]\n",
        "    c2 += i[2]     \n",
        "    c3.append(i[2])     \n",
        "  c2 = c2/len(sample_cust_df['customer_id'])  \n",
        "  count1.append(c1/len(df_temp_Y['article_id']))\n",
        "  count2.append(c2)\n",
        "  count3.append(c3)  \n",
        "  # count1 is max precision that we can expect if the algorithm\n",
        "  # has 100% precision\n",
        "  # count2 is the number of articles per customer on average\n",
        "  # count3 is the number of articles in the restricted list\n",
        "sns.relplot(x=th_list,y=count1)\n",
        "sns.relplot(x=th_list,y=count2)"
      ],
      "metadata": {
        "colab": {
          "base_uri": "https://localhost:8080/",
          "height": 738
        },
        "id": "ukAnFDs_ZMO7",
        "outputId": "9e47f03d-9740-4898-bc28-13a9eacabc85"
      },
      "id": "ukAnFDs_ZMO7",
      "execution_count": null,
      "outputs": [
        {
          "output_type": "execute_result",
          "data": {
            "text/plain": [
              "<seaborn.axisgrid.FacetGrid at 0x7f6eb2850b10>"
            ]
          },
          "metadata": {},
          "execution_count": 32
        },
        {
          "output_type": "display_data",
          "data": {
            "image/png": "[encoded data removed]",
            "text/plain": [
              "<Figure size 360x360 with 1 Axes>"
            ]
          },
          "metadata": {}
        },
        {
          "output_type": "display_data",
          "data": {
            "image/png": "[encoded data removed]",
            "text/plain": [
              "<Figure size 360x360 with 1 Axes>"
            ]
          },
          "metadata": {}
        }
      ]
    },
    {
      "cell_type": "code",
      "source": [
        "sns.set_style(\"white\")\n",
        "fig, axes = plt.subplots(2, 5, figsize=(26, 13))\n",
        "for count,value in enumerate(count3):\n",
        "  plt.subplot(2,5,count+1)\n",
        "  sns.histplot(value,bins=50)\n",
        "# We can see that the method to reduce the list of candidate \n",
        "# mostly put occasional customers to 0 no matter the initial amount."
      ],
      "metadata": {
        "colab": {
          "base_uri": "https://localhost:8080/",
          "height": 755
        },
        "id": "zb-59JoBZMaJ",
        "outputId": "0bd71740-2410-4d86-84b3-d3cfd259b59e"
      },
      "id": "zb-59JoBZMaJ",
      "execution_count": null,
      "outputs": [
        {
          "output_type": "display_data",
          "data": {
            "image/png": "[encoded data removed]",
            "text/plain": [
              "<Figure size 1872x936 with 10 Axes>"
            ]
          },
          "metadata": {}
        }
      ]
    },
    {
      "cell_type": "code",
      "source": [
        "count1"
      ],
      "metadata": {
        "colab": {
          "base_uri": "https://localhost:8080/"
        },
        "id": "uj-9xCVZZjUn",
        "outputId": "7af5d6a4-1ec6-400c-b17b-1f5b5ed9c5f5"
      },
      "id": "uj-9xCVZZjUn",
      "execution_count": null,
      "outputs": [
        {
          "output_type": "execute_result",
          "data": {
            "text/plain": [
              "[0.0416221985058698,\n",
              " 0.0768409818569904,\n",
              " 0.14834578441835647,\n",
              " 0.21664887940234792,\n",
              " 0.2892209178228389,\n",
              " 0.37726787620064034,\n",
              " 0.47225186766275346,\n",
              " 0.5688367129135539,\n",
              " 0.6472785485592316,\n",
              " 0.7219850586979722]"
            ]
          },
          "metadata": {},
          "execution_count": 34
        }
      ]
    },
    {
      "cell_type": "code",
      "source": [
        "count2"
      ],
      "metadata": {
        "colab": {
          "base_uri": "https://localhost:8080/"
        },
        "id": "qI7aNdhZZjbq",
        "outputId": "9eb6ed67-9592-4a4c-fb58-e14098542929"
      },
      "id": "qI7aNdhZZjbq",
      "execution_count": null,
      "outputs": [
        {
          "output_type": "execute_result",
          "data": {
            "text/plain": [
              "[21.0266,\n",
              " 52.7877,\n",
              " 143.9466,\n",
              " 278.2008,\n",
              " 457.1927,\n",
              " 719.0321,\n",
              " 1097.6784,\n",
              " 1660.91,\n",
              " 2593.8688,\n",
              " 4499.4097]"
            ]
          },
          "metadata": {},
          "execution_count": 35
        }
      ]
    },
    {
      "cell_type": "code",
      "source": [
        "# we define the items needed to reach the threshold th of the total number\n",
        "# of sales. These are the most popular items.\n",
        "th_list = [0.05,0.1,0.2,0.3,0.4,0.5,0.6,0.7,0.8,0.9]\n",
        "count1 = []\n",
        "count2 = []\n",
        "count3 = []\n",
        "for th in th_list:\n",
        "  nb = (df_3_weeks['article_id'].value_counts(normalize=True).cumsum()<th).sum() \n",
        "  wide_list_popular_items = df_3_weeks['article_id'].value_counts(\n",
        "      normalize=True).head(nb).index.tolist()\n",
        "  wide_list_popular_item_df = pd.DataFrame(index=wide_list_popular_items)\n",
        "  # we calculate the estimated price of each of these items\n",
        "  # (sales can change price)\n",
        "  # we create a subdataframe restricted to the popular item defined by th\n",
        "  meta_art_pop = meta_art[meta_art['article_id'].isin(wide_list_popular_items)]\n",
        "  # we calculate c1 the number of articles bought and in our restricted\n",
        "  # list defined in article_selection for all customers we divide c1 by the \n",
        "  # number of purchases to define the maximal precision if we chose the\n",
        "  # articles in our restricted list we calculate c2 the number of articles\n",
        "  # in our restricted list on average we calculate c3 which is c1/c2 the\n",
        "  # required 'precision' to find the good articles in our list  \n",
        "  sample_cust_df['possible_good_guess'] = sample_cust_df['customer_id'].apply(\n",
        "      art_sel_appearance)  \n",
        "  c1 = 0\n",
        "  c2 = 0\n",
        "  c3 = []\n",
        "  for i in sample_cust_df['possible_good_guess']:    \n",
        "    c1 += i[0]\n",
        "    c2 += i[2]     \n",
        "    c3.append(i[2])     \n",
        "  c2 = c2/len(sample_cust_df['customer_id'])  \n",
        "  count1.append(c1/len(df_temp_Y['article_id']))\n",
        "  count2.append(c2)\n",
        "  count3.append(c3)  \n",
        "  # count1 is max precision that we can expect if the algorithm\n",
        "  # has 100% precision\n",
        "  # count2 is the number of articles per customer on average\n",
        "  # count3 is the number of articles in the restricted list\n",
        "sns.relplot(x=th_list,y=count1)\n",
        "sns.relplot(x=th_list,y=count2)"
      ],
      "metadata": {
        "colab": {
          "base_uri": "https://localhost:8080/",
          "height": 738
        },
        "id": "9aAqVTK-Zm7C",
        "outputId": "7f3878ec-849d-4107-a46d-c64985d4e5a6"
      },
      "id": "9aAqVTK-Zm7C",
      "execution_count": null,
      "outputs": [
        {
          "output_type": "execute_result",
          "data": {
            "text/plain": [
              "<seaborn.axisgrid.FacetGrid at 0x7f97430d7a90>"
            ]
          },
          "metadata": {},
          "execution_count": 346
        },
        {
          "output_type": "display_data",
          "data": {
            "image/png": "[encoded data removed]",
            "text/plain": [
              "<Figure size 360x360 with 1 Axes>"
            ]
          },
          "metadata": {}
        },
        {
          "output_type": "display_data",
          "data": {
            "image/png": "[encoded data removed]",
            "text/plain": [
              "<Figure size 360x360 with 1 Axes>"
            ]
          },
          "metadata": {}
        }
      ]
    },
    {
      "cell_type": "code",
      "source": [
        "sns.set_style(\"white\")\n",
        "fig, axes = plt.subplots(2, 5, figsize=(26, 13))\n",
        "for count,value in enumerate(count3):\n",
        "  plt.subplot(2,5,count+1)\n",
        "  sns.histplot(value,bins=50)\n",
        "# We can see that the method to reduce the list of candidate \n",
        "# mostly put occasional customers to 0 no matter the initial amount."
      ],
      "metadata": {
        "colab": {
          "base_uri": "https://localhost:8080/",
          "height": 756
        },
        "id": "4ApoB0jWZox5",
        "outputId": "ab0eff2a-b5ea-4740-b450-d647e7a7ba6b"
      },
      "id": "4ApoB0jWZox5",
      "execution_count": null,
      "outputs": [
        {
          "output_type": "display_data",
          "data": {
            "image/png": "[encoded data removed]",
            "text/plain": [
              "<Figure size 1872x936 with 10 Axes>"
            ]
          },
          "metadata": {}
        }
      ]
    },
    {
      "cell_type": "code",
      "source": [
        "count1"
      ],
      "metadata": {
        "colab": {
          "base_uri": "https://localhost:8080/"
        },
        "id": "085xL2CyZomL",
        "outputId": "49d29af1-4664-4a76-df47-b15e1837dcc2"
      },
      "id": "085xL2CyZomL",
      "execution_count": null,
      "outputs": [
        {
          "output_type": "execute_result",
          "data": {
            "text/plain": [
              "[0.03550640279394645,\n",
              " 0.06868451688009314,\n",
              " 0.14377182770663563,\n",
              " 0.2240977881257276,\n",
              " 0.30267753201396974,\n",
              " 0.3841676367869616,\n",
              " 0.46973224679860304,\n",
              " 0.5657741559953434,\n",
              " 0.6490104772991852,\n",
              " 0.7462165308498254]"
            ]
          },
          "metadata": {},
          "execution_count": 308
        }
      ]
    },
    {
      "cell_type": "code",
      "source": [
        "count2"
      ],
      "metadata": {
        "colab": {
          "base_uri": "https://localhost:8080/"
        },
        "id": "JV3JnczHZnk2",
        "outputId": "67e38285-8ff1-4b42-ea22-b82cd446dfbe"
      },
      "id": "JV3JnczHZnk2",
      "execution_count": null,
      "outputs": [
        {
          "output_type": "execute_result",
          "data": {
            "text/plain": [
              "[20.7271,\n",
              " 56.0863,\n",
              " 145.4567,\n",
              " 279.3143,\n",
              " 470.5949,\n",
              " 755.6025,\n",
              " 1169.8446,\n",
              " 1797.1264,\n",
              " 2855.0558,\n",
              " 4939.9009]"
            ]
          },
          "metadata": {},
          "execution_count": 309
        }
      ]
    },
    {
      "cell_type": "code",
      "source": [
        "# The method describe previously is not really accurate and the maximum accuracy\n",
        "# c1 because the way it was calculated meant that if we covered all the category\n",
        "# of a variable c1 was always the same. the intersection of most popular items\n",
        "# selected with the threshold and the actual items purchased.\n",
        "# we need to change the strategy to calculate c1 and we only have 491\n",
        "# candidates the way we work. It would be better to have more."
      ],
      "metadata": {
        "id": "FaXvaZm90KVw"
      },
      "id": "FaXvaZm90KVw",
      "execution_count": null,
      "outputs": []
    },
    {
      "cell_type": "code",
      "source": [
        "len(set(df_temp_Y['customer_id']))"
      ],
      "metadata": {
        "colab": {
          "base_uri": "https://localhost:8080/"
        },
        "id": "vTnu-7Ja2lIB",
        "outputId": "b383ea6d-ec43-4e45-a6ed-e9b5e3714aa1"
      },
      "id": "vTnu-7Ja2lIB",
      "execution_count": null,
      "outputs": [
        {
          "output_type": "execute_result",
          "data": {
            "text/plain": [
              "491"
            ]
          },
          "metadata": {},
          "execution_count": 349
        }
      ]
    },
    {
      "cell_type": "markdown",
      "source": [
        "# Revision of the strategy to limit potential articles for each customer"
      ],
      "metadata": {
        "id": "YDTpogLd7qTC"
      },
      "id": "YDTpogLd7qTC"
    },
    {
      "cell_type": "code",
      "source": [
        "# lets work the way around\n",
        "# we randomly select 10 000 customers who bought something during the last week\n",
        "# of data"
      ],
      "metadata": {
        "id": "Bg0_kj2-217t"
      },
      "id": "Bg0_kj2-217t",
      "execution_count": null,
      "outputs": []
    },
    {
      "cell_type": "code",
      "source": [
        "customer_list = random.sample(set(df[df['t_dat']>'2020-09-14']['customer_id']),\\\n",
        "                              k=30000)"
      ],
      "metadata": {
        "id": "0SMpw0kp3Bed"
      },
      "id": "0SMpw0kp3Bed",
      "execution_count": 574,
      "outputs": []
    },
    {
      "cell_type": "code",
      "source": [
        "df_temp_Y = df[df['customer_id'].isin(customer_list)]\n",
        "df_train = df_info[df_info['customer_id'].isin(customer_list)]\n",
        "df_temp_Y = df_temp_Y[df_temp_Y['t_dat'] > '2020-09-14']"
      ],
      "metadata": {
        "id": "ISRv0_f83nyx"
      },
      "id": "ISRv0_f83nyx",
      "execution_count": 575,
      "outputs": []
    },
    {
      "cell_type": "code",
      "source": [
        "print(df_temp_Y.shape,df_train.shape)"
      ],
      "metadata": {
        "colab": {
          "base_uri": "https://localhost:8080/"
        },
        "id": "MsK2_NP438Xx",
        "outputId": "a1619cf5-e73b-4d03-9863-05dee58c79b4"
      },
      "id": "MsK2_NP438Xx",
      "execution_count": 576,
      "outputs": [
        {
          "output_type": "stream",
          "name": "stdout",
          "text": [
            "(105029, 5) (1864177, 18)\n"
          ]
        }
      ]
    },
    {
      "cell_type": "code",
      "source": [
        "sample_train_df = pd.DataFrame(index=customer_list)\n",
        "sample_train_df['customer_id']=sample_train_df.index"
      ],
      "metadata": {
        "id": "80M3tCH64yAW"
      },
      "id": "80M3tCH64yAW",
      "execution_count": 577,
      "outputs": []
    },
    {
      "cell_type": "code",
      "source": [
        "sample_train_df['colour_bought'] = df_train.groupby('customer_id')\\\n",
        "['perceived_colour_master_name'].unique()\n",
        "sample_train_df['nb_purchase'] = df_train.groupby('customer_id')\\\n",
        "['article_id'].count()\n",
        "sample_train_df['type_of_clothing'] = df_train.groupby('customer_id')\\\n",
        "['product_group_name'].unique()\n",
        "sample_train_df['appearance'] = df_train.groupby('customer_id')\\\n",
        "['graphical_appearance_name'].unique()\n",
        "sample_train_df['wider_colour'] = df_train.groupby('customer_id')\\\n",
        "['perceived_colour_value_name'].unique()"
      ],
      "metadata": {
        "id": "ZmIY8EgB6HGS"
      },
      "id": "ZmIY8EgB6HGS",
      "execution_count": 578,
      "outputs": []
    },
    {
      "cell_type": "code",
      "source": [
        "sample_train_df['average_buy'] = df_train.groupby('customer_id')['price'].mean()\n",
        "sample_train_df['std_buy'] = df_train.groupby('customer_id')['price'].std()\n",
        "sample_train_df['max_budget'] = df_train.groupby('customer_id')['price'].max()"
      ],
      "metadata": {
        "id": "APR5vC047CZQ"
      },
      "id": "APR5vC047CZQ",
      "execution_count": 579,
      "outputs": []
    },
    {
      "cell_type": "code",
      "source": [
        "df_3_weeks = df_info[(df_info['t_dat']>'2020-09-01')&(df_info['t_dat']<='2020-09-14')]"
      ],
      "metadata": {
        "id": "OtUf1CBQ7oBB"
      },
      "id": "OtUf1CBQ7oBB",
      "execution_count": null,
      "outputs": []
    },
    {
      "cell_type": "code",
      "source": [
        "def art_sel_budget(cust): \n",
        "    actually_bought = df_temp_Y[df_temp_Y['customer_id']==cust]['article_id']    \n",
        "    temp_list = wide_list_popular_item_df\n",
        "    # we remove articles that have an estimated price higher than max budget\n",
        "    temp_list = temp_list[temp_list['price_estimated']<sample_train_df.loc[cust,'max_budget']] \n",
        "    temp_list1 = set(temp_list.index).intersection(set(actually_bought))\n",
        "    return(len(temp_list1),len(set(actually_bought)),len(temp_list))   "
      ],
      "metadata": {
        "id": "_r-AaHJT88P5"
      },
      "execution_count": 152,
      "outputs": [],
      "id": "_r-AaHJT88P5"
    },
    {
      "cell_type": "code",
      "source": [
        "def art_sel_colour(cust): \n",
        "    actually_bought = df_temp_Y[df_temp_Y['customer_id']==cust]['article_id']    \n",
        "    temp_list = wide_list_popular_item_df\n",
        "    # we remove articles with perceived colour never bought by the customer\n",
        "    temp_list = set(temp_list.index).intersection(set(meta_art_pop[meta_art_pop['perceived_colour_master_name'].isin(set(sample_train_df.loc[cust,'colour_bought']))]['article_id'])) \n",
        "    temp_list1 = temp_list.intersection(set(actually_bought)) \n",
        "    return(len(temp_list1),len(set(actually_bought)),len(temp_list))"
      ],
      "metadata": {
        "id": "om6G6SjE88P6"
      },
      "execution_count": 149,
      "outputs": [],
      "id": "om6G6SjE88P6"
    },
    {
      "cell_type": "code",
      "source": [
        "def art_sel_typecloth(cust): \n",
        "    actually_bought = df_temp_Y[df_temp_Y['customer_id']==cust]['article_id']    \n",
        "    temp_list = wide_list_popular_item_df  \n",
        "    # we remove articles out of the product group of the customer\n",
        "    temp_list = set(temp_list.index).intersection(set(meta_art_pop[meta_art_pop['product_group_name'].isin(set(sample_train_df.loc[cust,'type_of_clothing']))]['article_id']))      \n",
        "    temp_list1 = temp_list.intersection(set(actually_bought))    \n",
        "    return(temp_list1,len(set(actually_bought)),len(temp_list))"
      ],
      "metadata": {
        "id": "zBMY7IHb88P6"
      },
      "execution_count": 150,
      "outputs": [],
      "id": "zBMY7IHb88P6"
    },
    {
      "cell_type": "code",
      "source": [
        "def art_sel_appearance(cust): \n",
        "    actually_bought = df_temp_Y[df_temp_Y['customer_id']==cust]['article_id']    \n",
        "    temp_list = wide_list_popular_item_df  \n",
        "    temp_list = set(temp_list.index).intersection(set(meta_art_pop[meta_art_pop['graphical_appearance_name'].isin(set(sample_train_df.loc[cust,'appearance']))]['article_id']))   \n",
        "    temp_list1 = temp_list.intersection(set(actually_bought))   \n",
        "    return(temp_list1,len(set(actually_bought)),len(temp_list))  "
      ],
      "metadata": {
        "id": "rRmw6vv288P6"
      },
      "execution_count": 151,
      "outputs": [],
      "id": "rRmw6vv288P6"
    },
    {
      "cell_type": "code",
      "source": [
        "# we define the items needed to reach the threshold th of the total number\n",
        "# of sales. These are the most popular items.\n",
        "th_list = [0.05,0.1,0.2,0.3,0.4,0.5,0.6,0.7,0.8,0.9]\n",
        "count1 = []\n",
        "count2 = []\n",
        "count3 = []\n",
        "for th in th_list:\n",
        "  nb = (df_3_weeks['article_id'].value_counts(normalize=True).cumsum()<th).sum() \n",
        "  wide_list_popular_items = df_3_weeks['article_id'].value_counts(\n",
        "      normalize=True).head(nb).index.tolist()\n",
        "  wide_list_popular_item_df = pd.DataFrame(index=wide_list_popular_items)\n",
        "  # we calculate the estimated price of each of these items\n",
        "  # (sales can change price)\n",
        "  # we create a subdataframe restricted to the popular item defined by th\n",
        "  meta_art_pop = meta_art[meta_art['article_id'].isin(wide_list_popular_items)]\n",
        "  # we calculate c1 the number of articles bought and in our restricted\n",
        "  # list defined in article_selection for all customers we divide c1 by the \n",
        "  # number of purchases to define the maximal precision if we chose the\n",
        "  # articles in our restricted list we calculate c2 the number of articles\n",
        "  # in our restricted list on average we calculate c3 which is c1/c2 the\n",
        "  # required 'precision' to find the good articles in our list  \n",
        "  sample_train_df['possible_good_guess'] = sample_train_df['customer_id'].apply(\n",
        "      art_sel_appearance,)  \n",
        "  c1 = 0\n",
        "  c2 = 0 \n",
        "  c3 = 0\n",
        "  for i in sample_train_df['possible_good_guess']:    \n",
        "    c1 += i[0]\n",
        "    c2 += i[2]    \n",
        "    c3 += i[1]       \n",
        "  c2 = c2/len(sample_train_df['customer_id'])  \n",
        "  count1.append(c1/c3)\n",
        "  count2.append(c2)\n",
        "  count3.append((1-c1/c3)*len(df_temp_Y['article_id'])/(len(df_temp_Y['article_id'])-c2))  \n",
        "  # count1 is max precision that we can expect if the algorithm\n",
        "  # has 100% precision\n",
        "  # count2 is the number of articles per customer on average\n",
        "  # count3 is the remaining info multiplied by the max precision accessible\n",
        "sns.relplot(x=th_list,y=count1)\n",
        "sns.relplot(x=th_list,y=count2)\n",
        "sns.relplot(x=th_list,y=count3)"
      ],
      "metadata": {
        "id": "l1_75G3Z8AKa",
        "colab": {
          "base_uri": "https://localhost:8080/",
          "height": 1000
        },
        "outputId": "e8a23ac9-32b2-4385-b96e-184f931a48ec"
      },
      "id": "l1_75G3Z8AKa",
      "execution_count": 51,
      "outputs": [
        {
          "output_type": "execute_result",
          "data": {
            "text/plain": [
              "<seaborn.axisgrid.FacetGrid at 0x7f6eb1619690>"
            ]
          },
          "metadata": {},
          "execution_count": 51
        },
        {
          "output_type": "display_data",
          "data": {
            "image/png": "[encoded data removed]",
            "text/plain": [
              "<Figure size 360x360 with 1 Axes>"
            ]
          },
          "metadata": {}
        },
        {
          "output_type": "display_data",
          "data": {
            "image/png": "[encoded data removed]",
            "text/plain": [
              "<Figure size 360x360 with 1 Axes>"
            ]
          },
          "metadata": {}
        },
        {
          "output_type": "display_data",
          "data": {
            "image/png": "[encoded data removed]",
            "text/plain": [
              "<Figure size 360x360 with 1 Axes>"
            ]
          },
          "metadata": {}
        }
      ]
    },
    {
      "cell_type": "code",
      "source": [
        "count1"
      ],
      "metadata": {
        "id": "kQikZiQFC34-",
        "colab": {
          "base_uri": "https://localhost:8080/"
        },
        "outputId": "1e1e0153-4044-4e61-e106-6a8b8a35208d"
      },
      "id": "kQikZiQFC34-",
      "execution_count": 52,
      "outputs": [
        {
          "output_type": "execute_result",
          "data": {
            "text/plain": [
              "[0.04282370801442217,\n",
              " 0.08333860459232083,\n",
              " 0.16576001012081726,\n",
              " 0.25175532924283633,\n",
              " 0.34217850591435256,\n",
              " 0.43560630020874186,\n",
              " 0.5351065848567271,\n",
              " 0.6360933645391865,\n",
              " 0.7359415522803466,\n",
              " 0.832405591751534]"
            ]
          },
          "metadata": {},
          "execution_count": 52
        }
      ]
    },
    {
      "cell_type": "code",
      "source": [
        "count2"
      ],
      "metadata": {
        "id": "4nm-e1k_C580",
        "colab": {
          "base_uri": "https://localhost:8080/"
        },
        "outputId": "d4797236-2ca1-4e93-e8bb-d94df814838a"
      },
      "id": "4nm-e1k_C580",
      "execution_count": 53,
      "outputs": [
        {
          "output_type": "execute_result",
          "data": {
            "text/plain": [
              "[25.1212,\n",
              " 64.5638,\n",
              " 172.1774,\n",
              " 333.9674,\n",
              " 562.2366,\n",
              " 904.9014,\n",
              " 1401.4822,\n",
              " 2167.3565,\n",
              " 3462.8669,\n",
              " 6040.1877]"
            ]
          },
          "metadata": {},
          "execution_count": 53
        }
      ]
    },
    {
      "cell_type": "code",
      "source": [
        "count3"
      ],
      "metadata": {
        "id": "URui0TG7ECT9",
        "colab": {
          "base_uri": "https://localhost:8080/"
        },
        "outputId": "78fee32c-0478-4a63-93be-051c53da248d"
      },
      "id": "URui0TG7ECT9",
      "execution_count": 54,
      "outputs": [
        {
          "output_type": "execute_result",
          "data": {
            "text/plain": [
              "[0.9578548916162294,\n",
              " 0.9183334984090212,\n",
              " 0.8383105539552305,\n",
              " 0.7553589510512873,\n",
              " 0.6684199360099674,\n",
              " 0.5791740202101011,\n",
              " 0.48402398860569085,\n",
              " 0.3875977281447516,\n",
              " 0.29263687797608234,\n",
              " 0.20200442021523615]"
            ]
          },
          "metadata": {},
          "execution_count": 54
        }
      ]
    },
    {
      "cell_type": "code",
      "source": [
        "# we define the items needed to reach the threshold th of the total number\n",
        "# of sales. These are the most popular items.\n",
        "th_list = [0.05,0.1,0.2,0.3,0.4,0.5,0.6,0.7,0.8,0.9]\n",
        "count1 = []\n",
        "count2 = []\n",
        "count3 = []\n",
        "for th in th_list:\n",
        "  nb = (df_3_weeks['article_id'].value_counts(normalize=True).cumsum()<th).sum() \n",
        "  wide_list_popular_items = df_3_weeks['article_id'].value_counts(\n",
        "      normalize=True).head(nb).index.tolist()\n",
        "  wide_list_popular_item_df = pd.DataFrame(index=wide_list_popular_items)\n",
        "  # we calculate the estimated price of each of these items\n",
        "  # (sales can change price)\n",
        "  # we create a subdataframe restricted to the popular item defined by th\n",
        "  meta_art_pop = meta_art[meta_art['article_id'].isin(wide_list_popular_items)]\n",
        "  # we calculate c1 the number of articles bought and in our restricted\n",
        "  # list defined in article_selection for all customers we divide c1 by the \n",
        "  # number of purchases to define the maximal precision if we chose the\n",
        "  # articles in our restricted list we calculate c2 the number of articles\n",
        "  # in our restricted list on average we calculate c3 which is c1/c2 the\n",
        "  # required 'precision' to find the good articles in our list  \n",
        "  sample_train_df['possible_good_guess'] = sample_train_df['customer_id'].apply(\n",
        "      art_sel_typecloth)  \n",
        "  c1 = 0\n",
        "  c2 = 0  \n",
        "  c3 = 0\n",
        "  for i in sample_train_df['possible_good_guess']:    \n",
        "    c1 += i[0]\n",
        "    c2 += i[2]    \n",
        "    c3 += i[1]       \n",
        "  c2 = c2/len(sample_train_df['customer_id'])  \n",
        "  count1.append(c1/c3)\n",
        "  count2.append(c2)\n",
        "  count3.append((1-c1/c3)*len(df_temp_Y['article_id'])/(len(df_temp_Y['article_id'])-c2))  \n",
        "  # count1 is max precision that we can expect if the algorithm\n",
        "  # has 100% precision\n",
        "  # count2 is the number of articles per customer on average\n",
        "  # count3 is the remaining info multiplied by the max precision accessible\n",
        "sns.relplot(x=th_list,y=count1)\n",
        "sns.relplot(x=th_list,y=count2)\n",
        "sns.relplot(x=th_list,y=count3)"
      ],
      "metadata": {
        "id": "d-RdVNAo9-86",
        "colab": {
          "base_uri": "https://localhost:8080/",
          "height": 1000
        },
        "outputId": "2fa9b756-3754-455f-e07c-823ac8b67f73"
      },
      "id": "d-RdVNAo9-86",
      "execution_count": 55,
      "outputs": [
        {
          "output_type": "execute_result",
          "data": {
            "text/plain": [
              "<seaborn.axisgrid.FacetGrid at 0x7f6eb1951f50>"
            ]
          },
          "metadata": {},
          "execution_count": 55
        },
        {
          "output_type": "display_data",
          "data": {
            "image/png": "[encoded data removed]",
            "text/plain": [
              "<Figure size 360x360 with 1 Axes>"
            ]
          },
          "metadata": {}
        },
        {
          "output_type": "display_data",
          "data": {
            "image/png": "[encoded data removed]",
            "text/plain": [
              "<Figure size 360x360 with 1 Axes>"
            ]
          },
          "metadata": {}
        },
        {
          "output_type": "display_data",
          "data": {
            "image/png": "[encoded data removed]",
            "text/plain": [
              "<Figure size 360x360 with 1 Axes>"
            ]
          },
          "metadata": {}
        }
      ]
    },
    {
      "cell_type": "code",
      "source": [
        "count1"
      ],
      "metadata": {
        "id": "yF9ejd6-EG1r",
        "colab": {
          "base_uri": "https://localhost:8080/"
        },
        "outputId": "ce444254-1a44-4202-8ef4-b860d9bade88"
      },
      "execution_count": 56,
      "outputs": [
        {
          "output_type": "execute_result",
          "data": {
            "text/plain": [
              "[0.04282370801442217,\n",
              " 0.08333860459232083,\n",
              " 0.16576001012081726,\n",
              " 0.25175532924283633,\n",
              " 0.34217850591435256,\n",
              " 0.43560630020874186,\n",
              " 0.5351065848567271,\n",
              " 0.6360933645391865,\n",
              " 0.7359415522803466,\n",
              " 0.832405591751534]"
            ]
          },
          "metadata": {},
          "execution_count": 56
        }
      ],
      "id": "yF9ejd6-EG1r"
    },
    {
      "cell_type": "code",
      "source": [
        "count2"
      ],
      "metadata": {
        "id": "ldyiOsA2EG1s",
        "colab": {
          "base_uri": "https://localhost:8080/"
        },
        "outputId": "46692144-fa68-45be-f0fc-8c9d6a68af88"
      },
      "execution_count": 57,
      "outputs": [
        {
          "output_type": "execute_result",
          "data": {
            "text/plain": [
              "[25.9458,\n",
              " 65.7319,\n",
              " 178.9442,\n",
              " 346.8089,\n",
              " 576.9551,\n",
              " 912.3087,\n",
              " 1402.6889,\n",
              " 2146.2179,\n",
              " 3383.3352,\n",
              " 5924.3967]"
            ]
          },
          "metadata": {},
          "execution_count": 57
        }
      ],
      "id": "ldyiOsA2EG1s"
    },
    {
      "cell_type": "code",
      "source": [
        "count3"
      ],
      "metadata": {
        "id": "OiXQRHHREG1v",
        "colab": {
          "base_uri": "https://localhost:8080/"
        },
        "outputId": "20b67db2-fa15-4a01-cf02-4706ab49e8ef"
      },
      "execution_count": 58,
      "outputs": [
        {
          "output_type": "execute_result",
          "data": {
            "text/plain": [
              "[0.9578771828683232,\n",
              " 0.9183638065839107,\n",
              " 0.8384713439462854,\n",
              " 0.7556352067239197,\n",
              " 0.6687019762073345,\n",
              " 0.5792982033245605,\n",
              " 0.4840411387822128,\n",
              " 0.38735177830749196,\n",
              " 0.29191128402399286,\n",
              " 0.20121245786573194]"
            ]
          },
          "metadata": {},
          "execution_count": 58
        }
      ],
      "id": "OiXQRHHREG1v"
    },
    {
      "cell_type": "code",
      "source": [
        "# we define the items needed to reach the threshold th of the total number\n",
        "# of sales. These are the most popular items.\n",
        "th_list = [0.05,0.1,0.2,0.3,0.4,0.5,0.6,0.7,0.8,0.9]\n",
        "count1 = []\n",
        "count2 = []\n",
        "count3 = []\n",
        "for th in th_list:\n",
        "  nb = (df_3_weeks['article_id'].value_counts(normalize=True).cumsum()<th).sum() \n",
        "  wide_list_popular_items = df_3_weeks['article_id'].value_counts(\n",
        "      normalize=True).head(nb).index.tolist()\n",
        "  wide_list_popular_item_df = pd.DataFrame(index=wide_list_popular_items)\n",
        "  # we calculate the estimated price of each of these items\n",
        "  # (sales can change price)\n",
        "  # we create a subdataframe restricted to the popular item defined by th\n",
        "  meta_art_pop = meta_art[meta_art['article_id'].isin(wide_list_popular_items)]\n",
        "  # we calculate c1 the number of articles bought and in our restricted\n",
        "  # list defined in article_selection for all customers we divide c1 by the \n",
        "  # number of purchases to define the maximal precision if we chose the\n",
        "  # articles in our restricted list we calculate c2 the number of articles\n",
        "  # in our restricted list on average we calculate c3 which is c1/c2 the\n",
        "  # required 'precision' to find the good articles in our list  \n",
        "  sample_train_df['possible_good_guess'] = sample_train_df['customer_id'].apply(\n",
        "      art_sel_colour)  \n",
        "  c1 = 0\n",
        "  c2 = 0  \n",
        "  c3 = 0\n",
        "  for i in sample_train_df['possible_good_guess']:    \n",
        "    c1 += i[0]\n",
        "    c2 += i[2]    \n",
        "    c3 += i[1]       \n",
        "  c2 = c2/len(sample_train_df['customer_id'])  \n",
        "  count1.append(c1/c3)\n",
        "  count2.append(c2)\n",
        "  count3.append((1-c1/c3)*len(df_temp_Y['article_id'])/(len(df_temp_Y['article_id'])-c2))  \n",
        "  # count1 is max precision that we can expect if the algorithm\n",
        "  # has 100% precision\n",
        "  # count2 is the number of articles per customer on average\n",
        "  # count3 is the remaining info multiplied by the max precision accessible\n",
        "sns.relplot(x=th_list,y=count1)\n",
        "sns.relplot(x=th_list,y=count2)\n",
        "sns.relplot(x=th_list,y=count3)"
      ],
      "metadata": {
        "id": "gvddUNIM-Jy6",
        "colab": {
          "base_uri": "https://localhost:8080/",
          "height": 1000
        },
        "outputId": "05d7ffc7-d46a-4515-fbc7-08e971aa62e8"
      },
      "id": "gvddUNIM-Jy6",
      "execution_count": 59,
      "outputs": [
        {
          "output_type": "execute_result",
          "data": {
            "text/plain": [
              "<seaborn.axisgrid.FacetGrid at 0x7f6ed75609d0>"
            ]
          },
          "metadata": {},
          "execution_count": 59
        },
        {
          "output_type": "display_data",
          "data": {
            "image/png": "[encoded data removed]",
            "text/plain": [
              "<Figure size 360x360 with 1 Axes>"
            ]
          },
          "metadata": {}
        },
        {
          "output_type": "display_data",
          "data": {
            "image/png": "[encoded data removed]",
            "text/plain": [
              "<Figure size 360x360 with 1 Axes>"
            ]
          },
          "metadata": {}
        },
        {
          "output_type": "display_data",
          "data": {
            "image/png": "[encoded data removed]",
            "text/plain": [
              "<Figure size 360x360 with 1 Axes>"
            ]
          },
          "metadata": {}
        }
      ]
    },
    {
      "cell_type": "code",
      "source": [
        "count1"
      ],
      "metadata": {
        "id": "HzH84-OEEI2i",
        "colab": {
          "base_uri": "https://localhost:8080/"
        },
        "outputId": "6fd1b0d7-0a53-4676-964f-ebd6f1a89cf3"
      },
      "execution_count": 60,
      "outputs": [
        {
          "output_type": "execute_result",
          "data": {
            "text/plain": [
              "[0.04282370801442217,\n",
              " 0.08333860459232083,\n",
              " 0.16576001012081726,\n",
              " 0.25175532924283633,\n",
              " 0.34217850591435256,\n",
              " 0.43560630020874186,\n",
              " 0.5351065848567271,\n",
              " 0.6360933645391865,\n",
              " 0.7359415522803466,\n",
              " 0.832405591751534]"
            ]
          },
          "metadata": {},
          "execution_count": 60
        }
      ],
      "id": "HzH84-OEEI2i"
    },
    {
      "cell_type": "code",
      "source": [
        "count2"
      ],
      "metadata": {
        "id": "qWhWEm-pEI2j",
        "colab": {
          "base_uri": "https://localhost:8080/"
        },
        "outputId": "f460a995-065c-4d55-9a76-3beb16218e07"
      },
      "execution_count": 61,
      "outputs": [
        {
          "output_type": "execute_result",
          "data": {
            "text/plain": [
              "[23.9494,\n",
              " 59.3701,\n",
              " 164.711,\n",
              " 316.7533,\n",
              " 528.7952,\n",
              " 839.7707,\n",
              " 1301.2723,\n",
              " 2005.0012,\n",
              " 3163.4382,\n",
              " 5518.4898]"
            ]
          },
          "metadata": {},
          "execution_count": 61
        }
      ],
      "id": "qWhWEm-pEI2j"
    },
    {
      "cell_type": "code",
      "source": [
        "count3"
      ],
      "metadata": {
        "id": "x1ZqrUkEEI2j",
        "colab": {
          "base_uri": "https://localhost:8080/"
        },
        "outputId": "c09ba515-8a68-4a29-c68f-4119758c4847"
      },
      "execution_count": 62,
      "outputs": [
        {
          "output_type": "execute_result",
          "data": {
            "text/plain": [
              "[0.9578232163584551,\n",
              " 0.9181987639865381,\n",
              " 0.8381332118951581,\n",
              " 0.7549889455524842,\n",
              " 0.6677800056523853,\n",
              " 0.5780843942963868,\n",
              " 0.4826039879568837,\n",
              " 0.3857166811043523,\n",
              " 0.2899236915485765,\n",
              " 0.19848459770342716]"
            ]
          },
          "metadata": {},
          "execution_count": 62
        }
      ],
      "id": "x1ZqrUkEEI2j"
    },
    {
      "cell_type": "code",
      "source": [
        "# we define the items needed to reach the threshold th of the total number\n",
        "# of sales. These are the most popular items.\n",
        "th_list = [0.05,0.1,0.2,0.3,0.4,0.5,0.6,0.7,0.8,0.9]\n",
        "count1 = []\n",
        "count2 = []\n",
        "count3 = []\n",
        "for th in th_list:\n",
        "  nb = (df_3_weeks['article_id'].value_counts(normalize=True).cumsum()<th).sum() \n",
        "  wide_list_popular_items = df_3_weeks['article_id'].value_counts(\n",
        "      normalize=True).head(nb).index.tolist()\n",
        "  wide_list_popular_item_df = pd.DataFrame(index=wide_list_popular_items)\n",
        "  # we calculate the estimated price of each of these items\n",
        "  # (sales can change price)\n",
        "  wide_list_popular_item_df['price_estimated'] = 0\n",
        "  for item in wide_list_popular_item_df.index:\n",
        "    wide_list_popular_item_df.loc[item,'price_estimated'] = \\\n",
        "    df_3_weeks[df_3_weeks['article_id']==item]['price'].mean()\n",
        "  # we create a subdataframe restricted to the popular item defined by th\n",
        "  meta_art_pop = meta_art[meta_art['article_id'].isin(wide_list_popular_items)]\n",
        "  # we calculate c1 the number of articles bought and in our restricted\n",
        "  # list defined in article_selection for all customers. We divide c1 by the \n",
        "  # number of purchases to define the maximal precision if we chose the\n",
        "  # articles in our restricted list. we calculate c2 the number of articles\n",
        "  # in our restricted list on average we calculate c3, the distribution of\n",
        "  # of number of restricted articles per customer.\n",
        "  sample_train_df['possible_good_guess'] = sample_train_df['customer_id'].apply(\n",
        "      art_sel_budget)  \n",
        "  c1 = 0\n",
        "  c2 = 0  \n",
        "  c3 = 0\n",
        "  for i in sample_train_df['possible_good_guess']:    \n",
        "    c1 += i[0]\n",
        "    c2 += i[2]    \n",
        "    c3 += i[1]       \n",
        "  c2 = c2/len(sample_train_df['customer_id'])  \n",
        "  count1.append(c1/c3)\n",
        "  count2.append(c2)\n",
        "  count3.append((1-c1/c3)*len(df_temp_Y['article_id'])/(len(df_temp_Y['article_id'])-c2))  \n",
        "  # count1 is max precision that we can expect if the algorithm\n",
        "  # has 100% precision\n",
        "  # count2 is the number of articles per customer on average\n",
        "  # count3 is the number of articles in the restricted list\n",
        "sns.relplot(x=th_list,y=count1)\n",
        "sns.relplot(x=th_list,y=count2)\n",
        "sns.relplot(x=th_list,y=count3)"
      ],
      "metadata": {
        "id": "4RRHDUTCEJ6K",
        "colab": {
          "base_uri": "https://localhost:8080/",
          "height": 1000
        },
        "outputId": "8047aaac-20da-4c73-8ac5-3abfd209c8fc"
      },
      "id": "4RRHDUTCEJ6K",
      "execution_count": 101,
      "outputs": [
        {
          "output_type": "execute_result",
          "data": {
            "text/plain": [
              "<seaborn.axisgrid.FacetGrid at 0x7f6eac359c10>"
            ]
          },
          "metadata": {},
          "execution_count": 101
        },
        {
          "output_type": "display_data",
          "data": {
            "image/png": "[encoded data removed]",
            "text/plain": [
              "<Figure size 360x360 with 1 Axes>"
            ]
          },
          "metadata": {}
        },
        {
          "output_type": "display_data",
          "data": {
            "image/png": "[encoded data removed]",
            "text/plain": [
              "<Figure size 360x360 with 1 Axes>"
            ]
          },
          "metadata": {}
        },
        {
          "output_type": "display_data",
          "data": {
            "image/png": "[encoded data removed]",
            "text/plain": [
              "<Figure size 360x360 with 1 Axes>"
            ]
          },
          "metadata": {}
        }
      ]
    },
    {
      "cell_type": "code",
      "source": [
        "count1"
      ],
      "metadata": {
        "id": "qFpZSWbxUSD9",
        "colab": {
          "base_uri": "https://localhost:8080/"
        },
        "outputId": "28b2f304-c845-4edc-ee18-4f1c9640f6d5"
      },
      "id": "qFpZSWbxUSD9",
      "execution_count": 102,
      "outputs": [
        {
          "output_type": "execute_result",
          "data": {
            "text/plain": [
              "[0.042191156935922576,\n",
              " 0.08172559934214688,\n",
              " 0.16224935163514453,\n",
              " 0.24641027262951484,\n",
              " 0.33499905117338225,\n",
              " 0.4266557024479727,\n",
              " 0.5237839205515845,\n",
              " 0.622999557214245,\n",
              " 0.7206338161806566,\n",
              " 0.8148206717692453]"
            ]
          },
          "metadata": {},
          "execution_count": 102
        }
      ]
    },
    {
      "cell_type": "code",
      "source": [
        "count2"
      ],
      "metadata": {
        "id": "TVUUhJ-qUTOv",
        "colab": {
          "base_uri": "https://localhost:8080/"
        },
        "outputId": "8ddacdb3-c72d-4ee9-f146-894631185805"
      },
      "id": "TVUUhJ-qUTOv",
      "execution_count": 103,
      "outputs": [
        {
          "output_type": "execute_result",
          "data": {
            "text/plain": [
              "[27.0709,\n",
              " 68.7467,\n",
              " 184.0529,\n",
              " 357.9926,\n",
              " 603.5296,\n",
              " 961.849,\n",
              " 1484.2122,\n",
              " 2333.6404,\n",
              " 3739.9575,\n",
              " 6617.8353]"
            ]
          },
          "metadata": {},
          "execution_count": 103
        }
      ]
    },
    {
      "cell_type": "code",
      "source": [
        "count3"
      ],
      "metadata": {
        "colab": {
          "base_uri": "https://localhost:8080/"
        },
        "id": "CPysWngnWaaT",
        "outputId": "545ed5c0-a3b0-4781-d166-7cf807cdcf18"
      },
      "id": "CPysWngnWaaT",
      "execution_count": 104,
      "outputs": [
        {
          "output_type": "execute_result",
          "data": {
            "text/plain": [
              "[0.9585406335160318,\n",
              " 0.9200581780782794,\n",
              " 0.8421217516260829,\n",
              " 0.7612755337281297,\n",
              " 0.6765155762879345,\n",
              " 0.5893302738796411,\n",
              " 0.497019909603714,\n",
              " 0.4035596552660544,\n",
              " 0.3123059440413467,\n",
              " 0.2276702022278015]"
            ]
          },
          "metadata": {},
          "execution_count": 104
        }
      ]
    },
    {
      "cell_type": "code",
      "source": [
        ""
      ],
      "metadata": {
        "id": "eHrP1pDcoLkR"
      },
      "id": "eHrP1pDcoLkR",
      "execution_count": null,
      "outputs": []
    },
    {
      "cell_type": "code",
      "source": [
        "def art_sel_budget_f(cust,temp_list): \n",
        "    # actually_bought = df_temp_Y[df_temp_Y['customer_id']==cust]['article_id']    \n",
        "    temp_list = wide_list_popular_item_df\n",
        "    # we remove articles that have an estimated price higher than max budget\n",
        "    temp_list = set(temp_list[temp_list['price_estimated']<sample_train_df.loc[cust,'max_budget']]) \n",
        "    # temp_list1 = set(temp_list.index).intersection(set(actually_bought))\n",
        "    return(temp_list)   "
      ],
      "metadata": {
        "id": "70XWZ289tOH2"
      },
      "execution_count": 628,
      "outputs": [],
      "id": "70XWZ289tOH2"
    },
    {
      "cell_type": "code",
      "source": [
        "def art_sel_colour_f(cust,temp_list): \n",
        "    # actually_bought = df_temp_Y[df_temp_Y['customer_id']==cust]['article_id']    \n",
        "    # temp_list = wide_list_popular_item_df\n",
        "    # we remove articles with perceived colour never bought by the customer\n",
        "    temp_list = temp_list.intersection(set(meta_art_pop[meta_art_pop['perceived_colour_master_name'].isin(set(sample_train_df.loc[cust,'colour_bought']))]['article_id'])) \n",
        "    # temp_list1 = temp_list.intersection(set(actually_bought)) \n",
        "    return(temp_list)"
      ],
      "metadata": {
        "id": "1UlrhFlltOH7"
      },
      "execution_count": 164,
      "outputs": [],
      "id": "1UlrhFlltOH7"
    },
    {
      "cell_type": "code",
      "source": [
        "def art_sel_typecloth_f(cust,temp_list): \n",
        "    # actually_bought = df_temp_Y[df_temp_Y['customer_id']==cust]['article_id']    \n",
        "    # temp_list = wide_list_popular_item_df  \n",
        "    # we remove articles out of the product group of the customer\n",
        "    temp_list = temp_list.intersection(set(meta_art_pop[meta_art_pop['product_group_name'].isin(set(sample_train_df.loc[cust,'type_of_clothing']))]['article_id']))      \n",
        "    # temp_list1 = temp_list.intersection(set(actually_bought))    \n",
        "    return(temp_list)"
      ],
      "metadata": {
        "id": "BLAgSSZitOH7"
      },
      "execution_count": 165,
      "outputs": [],
      "id": "BLAgSSZitOH7"
    },
    {
      "cell_type": "code",
      "source": [
        "def art_sel_appearance_f(cust,temp_list): \n",
        "    # actually_bought = df_temp_Y[df_temp_Y['customer_id']==cust]['article_id']    \n",
        "    # temp_list = wide_list_popular_item_df  \n",
        "    temp_list = temp_list.intersection(set(meta_art_pop[meta_art_pop['graphical_appearance_name'].isin(set(sample_train_df.loc[cust,'appearance']))]['article_id']))   \n",
        "    # temp_list1 = temp_list.intersection(set(actually_bought))   \n",
        "    return(temp_list)  "
      ],
      "metadata": {
        "id": "FKEIPsFKtOH8"
      },
      "execution_count": 166,
      "outputs": [],
      "id": "FKEIPsFKtOH8"
    },
    {
      "cell_type": "code",
      "source": [
        "def art_sel_wider_colour_f(cust,temp_list): \n",
        "    # actually_bought = df_temp_Y[df_temp_Y['customer_id']==cust]['article_id']    \n",
        "    # temp_list = wide_list_popular_item_df\n",
        "    # we remove articles with perceived colour never bought by the customer\n",
        "    temp_list = temp_list.intersection(set(meta_art_pop[meta_art_pop['perceived_colour_value_name'].isin(set(sample_train_df.loc[cust,'wider_colour']))]['article_id'])) \n",
        "    # temp_list1 = temp_list.intersection(set(actually_bought)) \n",
        "    return(temp_list)"
      ],
      "metadata": {
        "id": "p-XJunDdkP54"
      },
      "execution_count": 595,
      "outputs": [],
      "id": "p-XJunDdkP54"
    },
    {
      "cell_type": "code",
      "source": [
        "def purchased(cust):\n",
        "  return(set(df_temp_Y[df_temp_Y['customer_id']==cust]['article_id'])) \n",
        "sample_train_df['purchased'] = sample_train_df['customer_id'].apply(purchased)"
      ],
      "metadata": {
        "id": "ccetg-Grtl3S"
      },
      "id": "ccetg-Grtl3S",
      "execution_count": 580,
      "outputs": []
    },
    {
      "cell_type": "code",
      "source": [
        "nb = (df_3_weeks['article_id'].value_counts(normalize=True).cumsum()<0.06).sum() \n",
        "wide_list_popular_items = df_3_weeks['article_id'].value_counts(\n",
        "      normalize=True).head(nb).index.tolist()\n",
        "wide_list_popular_item_df = pd.DataFrame(index=wide_list_popular_items)\n",
        "def final_list(cust):  \n",
        "  list_art = set(wide_list_popular_item_df.index)\n",
        "  if len(list_art)>12:\n",
        "    list_art = art_sel_wider_colour_f(cust,list_art)\n",
        "    if(len(list_art))>12:\n",
        "      list_art = art_sel_typecloth_f(cust,list_art)\n",
        "      if(len(list_art))>12:\n",
        "        list_art = art_sel_appearance_f(cust,list_art)\n",
        "  return(list_art)"
      ],
      "metadata": {
        "id": "W15XT3l1kqht"
      },
      "id": "W15XT3l1kqht",
      "execution_count": null,
      "outputs": []
    },
    {
      "cell_type": "code",
      "source": [
        "nb = (df_3_weeks['article_id'].value_counts(normalize=True).cumsum()<0.1).sum() \n",
        "wide_list_popular_items = df_3_weeks['article_id'].value_counts(\n",
        "      normalize=True).head(nb).index.tolist()\n",
        "wide_list_popular_item_df = pd.DataFrame(index=wide_list_popular_items)\n",
        "wide_list_popular_item_df['price_estimated'] = 0\n",
        "for item in wide_list_popular_item_df.index:\n",
        "    wide_list_popular_item_df.loc[item,'price_estimated'] = \\\n",
        "    df_3_weeks[df_3_weeks['article_id']==item]['price'].mean()\n",
        "def final_list(cust):  \n",
        "  list_art = set(wide_list_popular_item_df.index)\n",
        "  if len(list_art)>12:\n",
        "    list_art = art_sel_budget_f(cust,list_art)\n",
        "    if len(list_art)>12:\n",
        "      list_art = art_sel_colour_f(cust,list_art)\n",
        "      if(len(list_art))>12:\n",
        "        list_art = art_sel_typecloth_f(cust,list_art)\n",
        "        if(len(list_art))>12:\n",
        "          list_art = art_sel_appearance_f(cust,list_art)\n",
        "  return(list_art)\n",
        "\n"
      ],
      "metadata": {
        "id": "YTcQacJXuFVh"
      },
      "id": "YTcQacJXuFVh",
      "execution_count": 639,
      "outputs": []
    },
    {
      "cell_type": "code",
      "source": [
        "t0 = time()\n",
        "sample_train_df['list_art'] = sample_train_df['customer_id'].apply(final_list)\n",
        "t1 = time()\n",
        "print(t1-t0)"
      ],
      "metadata": {
        "colab": {
          "base_uri": "https://localhost:8080/"
        },
        "id": "_KISQcKavdtx",
        "outputId": "89078a9c-54cd-49f7-edeb-aaaa2422e810"
      },
      "id": "_KISQcKavdtx",
      "execution_count": 640,
      "outputs": [
        {
          "output_type": "stream",
          "name": "stdout",
          "text": [
            "9.633281707763672\n"
          ]
        }
      ]
    },
    {
      "cell_type": "code",
      "source": [
        "sample_train_df['list_len'] = sample_train_df['list_art'].apply(len)\n",
        "sns.histplot(sample_train_df['list_len'])\n"
      ],
      "metadata": {
        "colab": {
          "base_uri": "https://localhost:8080/",
          "height": 298
        },
        "id": "CGxbl5XN2nRx",
        "outputId": "4111da3d-9069-4e8a-d1a9-e534b59eb5a0"
      },
      "id": "CGxbl5XN2nRx",
      "execution_count": 641,
      "outputs": [
        {
          "output_type": "execute_result",
          "data": {
            "text/plain": [
              "<matplotlib.axes._subplots.AxesSubplot at 0x7f6e56ab6f90>"
            ]
          },
          "metadata": {},
          "execution_count": 641
        },
        {
          "output_type": "display_data",
          "data": {
            "image/png": "[encoded data removed]",
            "text/plain": [
              "<Figure size 432x288 with 1 Axes>"
            ]
          },
          "metadata": {}
        }
      ]
    },
    {
      "cell_type": "code",
      "source": [
        "sample_train_df['list_len'].mean()"
      ],
      "metadata": {
        "colab": {
          "base_uri": "https://localhost:8080/"
        },
        "id": "-CxmPFWZ3Zp9",
        "outputId": "4cd32d4b-f353-472d-9698-962beea90eb2"
      },
      "id": "-CxmPFWZ3Zp9",
      "execution_count": 642,
      "outputs": [
        {
          "output_type": "execute_result",
          "data": {
            "text/plain": [
              "1.0"
            ]
          },
          "metadata": {},
          "execution_count": 642
        }
      ]
    },
    {
      "cell_type": "code",
      "source": [
        "t0=time()\n",
        "df_X = sample_train_df.copy()\n",
        "df_art_in_range = pd.DataFrame()\n",
        "for count,cust in enumerate(df_X.index):             \n",
        "      article_in_range = list(df_X.loc[cust,'list_art'])\n",
        "      df_art_in_range_bis = pd.DataFrame(index=article_in_range)\n",
        "      df_art_in_range_bis['article_id'] = article_in_range\n",
        "      df_art_in_range_bis['customer_id'] = cust \n",
        "      df_art_in_range = pd.concat([df_art_in_range,df_art_in_range_bis],axis=0)     \n",
        "df_X = df_X.merge(df_art_in_range,how='outer',on='customer_id')\n",
        "t1=time()\n",
        "print(t1-t0)"
      ],
      "metadata": {
        "colab": {
          "base_uri": "https://localhost:8080/"
        },
        "id": "kWJ_jlrh9mtb",
        "outputId": "408227b4-bc44-4caa-a862-799cda7ce3a2"
      },
      "id": "kWJ_jlrh9mtb",
      "execution_count": 643,
      "outputs": [
        {
          "output_type": "stream",
          "name": "stdout",
          "text": [
            "58.68539118766785\n"
          ]
        }
      ]
    },
    {
      "cell_type": "code",
      "source": [
        "def final_draw(art_list):\n",
        "  if len(art_list)>=12:\n",
        "    final_list = random.sample(art_list,k=12)\n",
        "    # print(final_list)\n",
        "    return(final_list)\n",
        "  else:\n",
        "    a = random.sample(art_list^set(most_bought_2020.index),k=(12-len(art_list)))\n",
        "    final_list = art_list.union(set(a))\n",
        "    return(final_list)    "
      ],
      "metadata": {
        "id": "S9N8dGcfbGEa"
      },
      "id": "S9N8dGcfbGEa",
      "execution_count": 644,
      "outputs": []
    },
    {
      "cell_type": "code",
      "source": [
        "sample_train_df['final'] = sample_train_df['list_art'].apply(final_draw)"
      ],
      "metadata": {
        "id": "NTT6Qw1Cb34r"
      },
      "id": "NTT6Qw1Cb34r",
      "execution_count": 645,
      "outputs": []
    },
    {
      "cell_type": "code",
      "source": [
        "sample_train_df['len'] = sample_train_df['final'].apply(len)"
      ],
      "metadata": {
        "id": "0WypUK6lTr_Q"
      },
      "id": "0WypUK6lTr_Q",
      "execution_count": 646,
      "outputs": []
    },
    {
      "cell_type": "code",
      "source": [
        "sample_train_df['results'] =0\n",
        "for cust in sample_train_df.index:\n",
        "  a = set(sample_train_df.loc[cust,'purchased'])\n",
        "  b = set(sample_train_df.loc[cust,'final'])\n",
        "  sample_train_df.loc[cust,'results'] = len(a.intersection(b))/len(a)"
      ],
      "metadata": {
        "id": "v0B5VjFMc8L-"
      },
      "id": "v0B5VjFMc8L-",
      "execution_count": 647,
      "outputs": []
    },
    {
      "cell_type": "code",
      "source": [
        "sample_train_df['results'].mean()"
      ],
      "metadata": {
        "colab": {
          "base_uri": "https://localhost:8080/"
        },
        "id": "oQy9YQX2fgn0",
        "outputId": "de6fb397-47c0-462d-a20a-9c6f9d76525e"
      },
      "id": "oQy9YQX2fgn0",
      "execution_count": 648,
      "outputs": [
        {
          "output_type": "execute_result",
          "data": {
            "text/plain": [
              "0.022231284429090628"
            ]
          },
          "metadata": {},
          "execution_count": 648
        }
      ]
    },
    {
      "cell_type": "code",
      "source": [
        "# list of customer who never bought anything\n",
        "never_bought =set(meta_cust['customer_id'])^set(df['customer_id'])"
      ],
      "metadata": {
        "id": "pKioop4Pggo6"
      },
      "id": "pKioop4Pggo6",
      "execution_count": 649,
      "outputs": []
    },
    {
      "cell_type": "code",
      "source": [
        "b =set(df['customer_id'])\n",
        "cust_df = pd.DataFrame(index=b)\n",
        "cust_df['customer_id'] = list(b)\n",
        "cust_df['colour_bought'] = 0\n",
        "cust_df['type_of_clothing'] = 0\n",
        "cust_df['appearance'] = 0\n",
        "cust_df['colour_bought'] = df_info.groupby('customer_id')\\\n",
        "['perceived_colour_master_name'].unique()\n",
        "cust_df['type_of_clothing'] = df_info.groupby('customer_id')\\\n",
        "['product_group_name'].unique()\n",
        "cust_df['appearance'] = df_info.groupby('customer_id')\\\n",
        "['graphical_appearance_name'].unique()"
      ],
      "metadata": {
        "id": "cb0YqgD6iMhr"
      },
      "id": "cb0YqgD6iMhr",
      "execution_count": 306,
      "outputs": []
    },
    {
      "cell_type": "code",
      "source": [
        "df_3_weeks_final = df_info[(df_info['t_dat']>'2020-09-08')]\n",
        "nb = (df_3_weeks_final['article_id'].value_counts(normalize=True).cumsum()<0.06).sum() \n",
        "wide_list_popular_items = df_3_weeks_final['article_id'].value_counts(\n",
        "      normalize=True).head(nb).index.tolist()\n",
        "meta_art_pop = meta_art[meta_art['article_id'].isin(wide_list_popular_items)]"
      ],
      "metadata": {
        "id": "wdEvqiebkcMC"
      },
      "id": "wdEvqiebkcMC",
      "execution_count": 563,
      "outputs": []
    },
    {
      "cell_type": "code",
      "source": [
        "def art_sel_budget_final(cust,temp_list): \n",
        "    # actually_bought = df_temp_Y[df_temp_Y['customer_id']==cust]['article_id']    \n",
        "    # temp_list = wide_list_popular_item_df\n",
        "    # we remove articles that have an estimated price higher than max budget\n",
        "    temp_list = temp_list[temp_list['price_estimated']<sample_train_df.loc[cust,'max_budget']] \n",
        "    temp_list1 = set(temp_list.index).intersection(set(actually_bought))\n",
        "    return(temp_list)   "
      ],
      "metadata": {
        "id": "RG_XsEcXlER1"
      },
      "execution_count": null,
      "outputs": [],
      "id": "RG_XsEcXlER1"
    },
    {
      "cell_type": "code",
      "source": [
        "def art_sel_colour_final(cust,temp_list): \n",
        "    # actually_bought = df_temp_Y[df_temp_Y['customer_id']==cust]['article_id']    \n",
        "    # temp_list = wide_list_popular_item_df\n",
        "    # we remove articles with perceived colour never bought by the customer\n",
        "    temp_list = temp_list.intersection(set(meta_art_pop[meta_art_pop['perceived_colour_master_name'].isin(set(cust_df.loc[cust,'colour_bought']))]['article_id'])) \n",
        "    # temp_list1 = temp_list.intersection(set(actually_bought)) \n",
        "    return(temp_list)"
      ],
      "metadata": {
        "id": "HUNPyT5jlER1"
      },
      "execution_count": 300,
      "outputs": [],
      "id": "HUNPyT5jlER1"
    },
    {
      "cell_type": "code",
      "source": [
        "def art_sel_typecloth_final(cust,temp_list): \n",
        "    # actually_bought = df_temp_Y[df_temp_Y['customer_id']==cust]['article_id']    \n",
        "    # temp_list = wide_list_popular_item_df  \n",
        "    # we remove articles out of the product group of the customer\n",
        "    temp_list = temp_list.intersection(set(meta_art_pop[meta_art_pop['product_group_name'].isin(set(cust_df.loc[cust,'type_of_clothing']))]['article_id']))      \n",
        "    # temp_list1 = temp_list.intersection(set(actually_bought))    \n",
        "    return(temp_list)"
      ],
      "metadata": {
        "id": "XTkVXcBplER1"
      },
      "execution_count": 301,
      "outputs": [],
      "id": "XTkVXcBplER1"
    },
    {
      "cell_type": "code",
      "source": [
        "def art_sel_appearance_final(cust,temp_list): \n",
        "    # actually_bought = df_temp_Y[df_temp_Y['customer_id']==cust]['article_id']    \n",
        "    # temp_list = wide_list_popular_item_df  \n",
        "    temp_list = temp_list.intersection(set(meta_art_pop[meta_art_pop['graphical_appearance_name'].isin(set(cust_df.loc[cust,'appearance']))]['article_id']))   \n",
        "    # temp_list1 = temp_list.intersection(set(actually_bought))   \n",
        "    return(temp_list)  "
      ],
      "metadata": {
        "id": "ZzfHUMqvlER1"
      },
      "execution_count": 302,
      "outputs": [],
      "id": "ZzfHUMqvlER1"
    },
    {
      "cell_type": "code",
      "source": [
        "def art_sel_appearance_final(cust,temp_list): \n",
        "    # actually_bought = df_temp_Y[df_temp_Y['customer_id']==cust]['article_id']    \n",
        "    # temp_list = wide_list_popular_item_df  \n",
        "    temp_list = temp_list.intersection(set(meta_art_pop[meta_art_pop['graphical_appearance_name'].isin(set(cust_df.loc[cust,'appearance']))]['article_id']))   \n",
        "    # temp_list1 = temp_list.intersection(set(actually_bought))   \n",
        "    return(temp_list)  "
      ],
      "metadata": {
        "id": "ikNxfaNvkDRf"
      },
      "id": "ikNxfaNvkDRf",
      "execution_count": null,
      "outputs": []
    },
    {
      "cell_type": "code",
      "source": [
        "nb = (df_3_weeks_final['article_id'].value_counts(normalize=True).cumsum()<0.06).sum() \n",
        "wide_list_popular_items = df_3_weeks_final['article_id'].value_counts(\n",
        "      normalize=True).head(nb).index.tolist()\n",
        "wide_list_popular_item_df = pd.DataFrame(index=wide_list_popular_items)\n",
        "meta_art_pop = meta_art[meta_art['article_id'].isin(wide_list_popular_items)]\n",
        "def final_list(cust):  \n",
        "  list_art = set(wide_list_popular_item_df.index)\n",
        "  if len(list_art)>12:\n",
        "    list_art = art_sel_colour_final(cust,list_art)\n",
        "    if(len(list_art))>12:\n",
        "      list_art = art_sel_typecloth_final(cust,list_art)\n",
        "      if(len(list_art))>12:\n",
        "        list_art = art_sel_appearance_final(cust,list_art)\n",
        "  return(list_art)"
      ],
      "metadata": {
        "id": "4NlUlfBTkVi3"
      },
      "id": "4NlUlfBTkVi3",
      "execution_count": 564,
      "outputs": []
    },
    {
      "cell_type": "code",
      "source": [
        "t0 = time()\n",
        "cust_df['list_art'] = cust_df['customer_id'].apply(final_list)\n",
        "t1 = time()\n",
        "print(t1-t0)"
      ],
      "metadata": {
        "colab": {
          "base_uri": "https://localhost:8080/"
        },
        "id": "btv0UQCjl3gy",
        "outputId": "b5f0d16b-6fb8-497a-cf84-92a4e24b37ce"
      },
      "id": "btv0UQCjl3gy",
      "execution_count": 565,
      "outputs": [
        {
          "output_type": "stream",
          "name": "stdout",
          "text": [
            "1529.0491127967834\n"
          ]
        }
      ]
    },
    {
      "cell_type": "code",
      "source": [
        "def final_draw(art_list):\n",
        "  if len(art_list)>=12:\n",
        "    final_list = random.sample(art_list,k=12)\n",
        "    # print(final_list)\n",
        "    return(final_list)\n",
        "  else:\n",
        "    a = random.sample(art_list^set(most_bought_2020.index),k=(12-len(art_list)))\n",
        "    final_list = art_list.union(set(a))\n",
        "    return(final_list)"
      ],
      "metadata": {
        "id": "YszpRrCALVvp"
      },
      "id": "YszpRrCALVvp",
      "execution_count": 566,
      "outputs": []
    },
    {
      "cell_type": "code",
      "source": [
        "def final_draw(art_list):\n",
        "  if len(art_list)>=12:\n",
        "    final_list = random.sample(art_list,k=12)\n",
        "    # print(final_list)\n",
        "    return(final_list)\n",
        "  else:  \n",
        "    a = set(most_bought_2020.index).difference(art_list)\n",
        "    a = random.sample(a,k=(12-len(art_list)))     \n",
        "    final_list = art_list.union(set(a))    \n",
        "    return(final_list)\n",
        "    "
      ],
      "metadata": {
        "id": "__ySy3rftM8z"
      },
      "id": "__ySy3rftM8z",
      "execution_count": 567,
      "outputs": []
    },
    {
      "cell_type": "code",
      "source": [
        "t0 = time()\n",
        "cust_df['final'] = cust_df['list_art'].apply(final_draw)\n",
        "t1 = time()\n",
        "print(t1-t0)"
      ],
      "metadata": {
        "colab": {
          "base_uri": "https://localhost:8080/"
        },
        "id": "4E759cNRsESz",
        "outputId": "54be60ad-111c-445c-b9b6-c60dbfabb557"
      },
      "id": "4E759cNRsESz",
      "execution_count": 568,
      "outputs": [
        {
          "output_type": "stream",
          "name": "stdout",
          "text": [
            "24.198362588882446\n"
          ]
        }
      ]
    },
    {
      "cell_type": "code",
      "source": [
        "cust_df['len'] = cust_df['final'].apply(len)"
      ],
      "metadata": {
        "id": "sXcBi4F6sgQr"
      },
      "id": "sXcBi4F6sgQr",
      "execution_count": 569,
      "outputs": []
    },
    {
      "cell_type": "code",
      "source": [
        "cust_df['len'].value_counts()"
      ],
      "metadata": {
        "colab": {
          "base_uri": "https://localhost:8080/"
        },
        "id": "u2EyGHuvsomC",
        "outputId": "b6a88175-ae5d-4609-bca8-919ac9371b2d"
      },
      "id": "u2EyGHuvsomC",
      "execution_count": 570,
      "outputs": [
        {
          "output_type": "execute_result",
          "data": {
            "text/plain": [
              "12    1362281\n",
              "Name: len, dtype: int64"
            ]
          },
          "metadata": {},
          "execution_count": 570
        }
      ]
    },
    {
      "cell_type": "code",
      "source": [
        "def submission(cust):\n",
        "  if cust in never_bought:\n",
        "    return(' '.join(most_bought_2020.index.tolist()))\n",
        "  else:\n",
        "    return(' '.join(cust_df.loc[cust,'final']))"
      ],
      "metadata": {
        "id": "mb7wTyXcHCfE"
      },
      "id": "mb7wTyXcHCfE",
      "execution_count": 571,
      "outputs": []
    },
    {
      "cell_type": "code",
      "source": [
        "sub_format['prediction'] = sub_format['customer_id'].apply(submission)"
      ],
      "metadata": {
        "id": "kn-LQeZEG2Au"
      },
      "id": "kn-LQeZEG2Au",
      "execution_count": 572,
      "outputs": []
    },
    {
      "cell_type": "code",
      "source": [
        "sub_format.head()"
      ],
      "metadata": {
        "colab": {
          "base_uri": "https://localhost:8080/",
          "height": 215
        },
        "id": "TDammQ3UKvhb",
        "outputId": "f88f6da1-9722-4369-f156-49c813438999"
      },
      "id": "TDammQ3UKvhb",
      "execution_count": 390,
      "outputs": [
        {
          "output_type": "execute_result",
          "data": {
            "text/html": [
              "\n",
              "  <div id=\"df-9ed8b908-893e-46fe-897a-b7a0215ba11a\">\n",
              "    <div class=\"colab-df-container\">\n",
              "      <div>\n",
              "<style scoped>\n",
              "    .dataframe tbody tr th:only-of-type {\n",
              "        vertical-align: middle;\n",
              "    }\n",
              "\n",
              "    .dataframe tbody tr th {\n",
              "        vertical-align: top;\n",
              "    }\n",
              "\n",
              "    .dataframe thead th {\n",
              "        text-align: right;\n",
              "    }\n",
              "</style>\n",
              "<table border=\"1\" class=\"dataframe\">\n",
              "  <thead>\n",
              "    <tr style=\"text-align: right;\">\n",
              "      <th></th>\n",
              "      <th>customer_id</th>\n",
              "      <th>prediction</th>\n",
              "    </tr>\n",
              "  </thead>\n",
              "  <tbody>\n",
              "    <tr>\n",
              "      <th>0</th>\n",
              "      <td>00000dbacae5abe5e23885899a1fa44253a17956c6d1c3...</td>\n",
              "      <td>0673677002 0915526001 0863646001 0714790020 07...</td>\n",
              "    </tr>\n",
              "    <tr>\n",
              "      <th>1</th>\n",
              "      <td>0000423b00ade91418cceaf3b26c6af3dd342b51fd051e...</td>\n",
              "      <td>0914805002 0915526001 0898694001 0863595006 08...</td>\n",
              "    </tr>\n",
              "    <tr>\n",
              "      <th>2</th>\n",
              "      <td>000058a12d5b43e67d225668fa1f8d618c13dc232df0ca...</td>\n",
              "      <td>0894780001 0751471001 0673677002 0706016003 08...</td>\n",
              "    </tr>\n",
              "    <tr>\n",
              "      <th>3</th>\n",
              "      <td>00005ca1c9ed5f5146b52ac8639a40ca9d57aeff4d1bd2...</td>\n",
              "      <td>0762846006 0863595006 0751471001 0809238001 06...</td>\n",
              "    </tr>\n",
              "    <tr>\n",
              "      <th>4</th>\n",
              "      <td>00006413d8573cd20ed7128e53b7b13819fe5cfc2d801f...</td>\n",
              "      <td>0919273002 0863646001 0915529003 0809238005 09...</td>\n",
              "    </tr>\n",
              "  </tbody>\n",
              "</table>\n",
              "</div>\n",
              "      <button class=\"colab-df-convert\" onclick=\"convertToInteractive('df-9ed8b908-893e-46fe-897a-b7a0215ba11a')\"\n",
              "              title=\"Convert this dataframe to an interactive table.\"\n",
              "              style=\"display:none;\">\n",
              "        \n",
              "  <svg xmlns=\"http://www.w3.org/2000/svg\" height=\"24px\"viewBox=\"0 0 24 24\"\n",
              "       width=\"24px\">\n",
              "    <path d=\"M0 0h24v24H0V0z\" fill=\"none\"/>\n",
              "    <path d=\"M18.56 5.44l.94 2.06.94-2.06 2.06-.94-2.06-.94-.94-2.06-.94 2.06-2.06.94zm-11 1L8.5 8.5l.94-2.06 2.06-.94-2.06-.94L8.5 2.5l-.94 2.06-2.06.94zm10 10l.94 2.06.94-2.06 2.06-.94-2.06-.94-.94-2.06-.94 2.06-2.06.94z\"/><path d=\"M17.41 7.96l-1.37-1.37c-.4-.4-.92-.59-1.43-.59-.52 0-1.04.2-1.43.59L10.3 9.45l-7.72 7.72c-.78.78-.78 2.05 0 2.83L4 21.41c.39.39.9.59 1.41.59.51 0 1.02-.2 1.41-.59l7.78-7.78 2.81-2.81c.8-.78.8-2.07 0-2.86zM5.41 20L4 18.59l7.72-7.72 1.47 1.35L5.41 20z\"/>\n",
              "  </svg>\n",
              "      </button>\n",
              "      \n",
              "  <style>\n",
              "    .colab-df-container {\n",
              "      display:flex;\n",
              "      flex-wrap:wrap;\n",
              "      gap: 12px;\n",
              "    }\n",
              "\n",
              "    .colab-df-convert {\n",
              "      background-color: #E8F0FE;\n",
              "      border: none;\n",
              "      border-radius: 50%;\n",
              "      cursor: pointer;\n",
              "      display: none;\n",
              "      fill: #1967D2;\n",
              "      height: 32px;\n",
              "      padding: 0 0 0 0;\n",
              "      width: 32px;\n",
              "    }\n",
              "\n",
              "    .colab-df-convert:hover {\n",
              "      background-color: #E2EBFA;\n",
              "      box-shadow: 0px 1px 2px rgba(60, 64, 67, 0.3), 0px 1px 3px 1px rgba(60, 64, 67, 0.15);\n",
              "      fill: #174EA6;\n",
              "    }\n",
              "\n",
              "    [theme=dark] .colab-df-convert {\n",
              "      background-color: #3B4455;\n",
              "      fill: #D2E3FC;\n",
              "    }\n",
              "\n",
              "    [theme=dark] .colab-df-convert:hover {\n",
              "      background-color: #434B5C;\n",
              "      box-shadow: 0px 1px 3px 1px rgba(0, 0, 0, 0.15);\n",
              "      filter: drop-shadow(0px 1px 2px rgba(0, 0, 0, 0.3));\n",
              "      fill: #FFFFFF;\n",
              "    }\n",
              "  </style>\n",
              "\n",
              "      <script>\n",
              "        const buttonEl =\n",
              "          document.querySelector('#df-9ed8b908-893e-46fe-897a-b7a0215ba11a button.colab-df-convert');\n",
              "        buttonEl.style.display =\n",
              "          google.colab.kernel.accessAllowed ? 'block' : 'none';\n",
              "\n",
              "        async function convertToInteractive(key) {\n",
              "          const element = document.querySelector('#df-9ed8b908-893e-46fe-897a-b7a0215ba11a');\n",
              "          const dataTable =\n",
              "            await google.colab.kernel.invokeFunction('convertToInteractive',\n",
              "                                                     [key], {});\n",
              "          if (!dataTable) return;\n",
              "\n",
              "          const docLinkHtml = 'Like what you see? Visit the ' +\n",
              "            '<a target=\"_blank\" href=https://colab.research.google.com/notebooks/data_table.ipynb>data table notebook</a>'\n",
              "            + ' to learn more about interactive tables.';\n",
              "          element.innerHTML = '';\n",
              "          dataTable['output_type'] = 'display_data';\n",
              "          await google.colab.output.renderOutput(dataTable, element);\n",
              "          const docLink = document.createElement('div');\n",
              "          docLink.innerHTML = docLinkHtml;\n",
              "          element.appendChild(docLink);\n",
              "        }\n",
              "      </script>\n",
              "    </div>\n",
              "  </div>\n",
              "  "
            ],
            "text/plain": [
              "                                         customer_id  \\\n",
              "0  00000dbacae5abe5e23885899a1fa44253a17956c6d1c3...   \n",
              "1  0000423b00ade91418cceaf3b26c6af3dd342b51fd051e...   \n",
              "2  000058a12d5b43e67d225668fa1f8d618c13dc232df0ca...   \n",
              "3  00005ca1c9ed5f5146b52ac8639a40ca9d57aeff4d1bd2...   \n",
              "4  00006413d8573cd20ed7128e53b7b13819fe5cfc2d801f...   \n",
              "\n",
              "                                          prediction  \n",
              "0  0673677002 0915526001 0863646001 0714790020 07...  \n",
              "1  0914805002 0915526001 0898694001 0863595006 08...  \n",
              "2  0894780001 0751471001 0673677002 0706016003 08...  \n",
              "3  0762846006 0863595006 0751471001 0809238001 06...  \n",
              "4  0919273002 0863646001 0915529003 0809238005 09...  "
            ]
          },
          "metadata": {},
          "execution_count": 390
        }
      ]
    },
    {
      "cell_type": "code",
      "source": [
        "sub_format.to_csv('final_submission_1.csv',index=False)"
      ],
      "metadata": {
        "id": "FeYAUvfFxqT0"
      },
      "id": "FeYAUvfFxqT0",
      "execution_count": 573,
      "outputs": []
    }
  ],
  "metadata": {
    "kernelspec": {
      "display_name": "Python 3",
      "language": "python",
      "name": "python3"
    },
    "language_info": {
      "codemirror_mode": {
        "name": "ipython",
        "version": 3
      },
      "file_extension": ".py",
      "mimetype": "text/x-python",
      "name": "python",
      "nbconvert_exporter": "python",
      "pygments_lexer": "ipython3",
      "version": "3.8.8"
    },
    "colab": {
      "name": "P8_02_modele.ipynb",
      "provenance": [],
      "machine_shape": "hm"
    }
  },
  "nbformat": 4,
  "nbformat_minor": 5
}